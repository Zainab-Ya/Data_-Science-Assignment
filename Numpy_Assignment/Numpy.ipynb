{
 "cells": [
  {
   "cell_type": "markdown",
   "metadata": {},
   "source": []
  },
  {
   "cell_type": "markdown",
   "metadata": {},
   "source": []
  },
  {
   "cell_type": "markdown",
   "metadata": {},
   "source": []
  },
  {
   "cell_type": "markdown",
   "metadata": {},
   "source": []
  },
  {
   "cell_type": "markdown",
   "metadata": {},
   "source": []
  },
  {
   "cell_type": "markdown",
   "metadata": {},
   "source": []
  },
  {
   "cell_type": "markdown",
   "metadata": {},
   "source": []
  },
  {
   "cell_type": "markdown",
   "metadata": {},
   "source": []
  },
  {
   "cell_type": "markdown",
   "metadata": {},
   "source": []
  },
  {
   "cell_type": "markdown",
   "metadata": {},
   "source": []
  },
  {
   "cell_type": "markdown",
   "metadata": {},
   "source": []
  },
  {
   "cell_type": "markdown",
   "metadata": {},
   "source": []
  },
  {
   "cell_type": "markdown",
   "metadata": {},
   "source": []
  },
  {
   "cell_type": "markdown",
   "metadata": {},
   "source": [
    "100 Numpy exercises"
   ]
  },
  {
   "cell_type": "markdown",
   "metadata": {},
   "source": [
    "No. 1"
   ]
  },
  {
   "cell_type": "code",
   "execution_count": 1,
   "metadata": {},
   "outputs": [],
   "source": [
    "import numpy as np\n"
   ]
  },
  {
   "cell_type": "markdown",
   "metadata": {},
   "source": [
    "No. 2"
   ]
  },
  {
   "cell_type": "code",
   "execution_count": 3,
   "metadata": {},
   "outputs": [
    {
     "name": "stdout",
     "output_type": "stream",
     "text": [
      "1.23.5\n",
      "openblas64__info:\n",
      "    library_dirs = ['D:\\\\a\\\\numpy\\\\numpy\\\\build\\\\openblas64__info']\n",
      "    libraries = ['openblas64__info']\n",
      "    language = f77\n",
      "    define_macros = [('HAVE_CBLAS', None), ('BLAS_SYMBOL_SUFFIX', '64_'), ('HAVE_BLAS_ILP64', None)]\n",
      "blas_ilp64_opt_info:\n",
      "    library_dirs = ['D:\\\\a\\\\numpy\\\\numpy\\\\build\\\\openblas64__info']\n",
      "    libraries = ['openblas64__info']\n",
      "    language = f77\n",
      "    define_macros = [('HAVE_CBLAS', None), ('BLAS_SYMBOL_SUFFIX', '64_'), ('HAVE_BLAS_ILP64', None)]\n",
      "openblas64__lapack_info:\n",
      "    library_dirs = ['D:\\\\a\\\\numpy\\\\numpy\\\\build\\\\openblas64__lapack_info']\n",
      "    libraries = ['openblas64__lapack_info']\n",
      "    language = f77\n",
      "    define_macros = [('HAVE_CBLAS', None), ('BLAS_SYMBOL_SUFFIX', '64_'), ('HAVE_BLAS_ILP64', None), ('HAVE_LAPACKE', None)]\n",
      "lapack_ilp64_opt_info:\n",
      "    library_dirs = ['D:\\\\a\\\\numpy\\\\numpy\\\\build\\\\openblas64__lapack_info']\n",
      "    libraries = ['openblas64__lapack_info']\n",
      "    language = f77\n",
      "    define_macros = [('HAVE_CBLAS', None), ('BLAS_SYMBOL_SUFFIX', '64_'), ('HAVE_BLAS_ILP64', None), ('HAVE_LAPACKE', None)]\n",
      "Supported SIMD extensions in this NumPy install:\n",
      "    baseline = SSE,SSE2,SSE3\n",
      "    found = SSSE3,SSE41,POPCNT,SSE42,AVX,F16C\n",
      "    not found = FMA3,AVX2,AVX512F,AVX512CD,AVX512_SKX,AVX512_CLX,AVX512_CNL,AVX512_ICL\n",
      "None\n"
     ]
    }
   ],
   "source": [
    "print(np.__version__)\n",
    "print(np.show_config())\n"
   ]
  },
  {
   "cell_type": "markdown",
   "metadata": {},
   "source": [
    "No. 3"
   ]
  },
  {
   "cell_type": "code",
   "execution_count": 4,
   "metadata": {},
   "outputs": [],
   "source": [
    "null_vector = np.zeros(10)\n"
   ]
  },
  {
   "cell_type": "markdown",
   "metadata": {},
   "source": [
    "No. 4\n",
    "To find the memory size of an array in Python, you can use the nbytes attribute of a NumPy array to get the total bytes consumed by the elements of the array12. Alternatively, you can multiply the size attribute (the number of elements) by the itemsize attribute (the memory size of one element in bytes).\n",
    "Example:"
   ]
  },
  {
   "cell_type": "code",
   "execution_count": 5,
   "metadata": {},
   "outputs": [
    {
     "name": "stdout",
     "output_type": "stream",
     "text": [
      "128\n",
      "128\n"
     ]
    }
   ],
   "source": [
    "a = np.zeros((4, 4))\n",
    "print(a.nbytes) # 128 bytes\n",
    "print(a.size * a.itemsize) # 128 bytes\n"
   ]
  },
  {
   "cell_type": "markdown",
   "metadata": {},
   "source": [
    "No. 5\n",
    "To get the documentation of the numpy add function from the command line use the np.info() function. Example:"
   ]
  },
  {
   "cell_type": "code",
   "execution_count": 6,
   "metadata": {},
   "outputs": [
    {
     "name": "stdout",
     "output_type": "stream",
     "text": [
      "add(x1, x2, /, out=None, *, where=True, casting='same_kind', order='K', dtype=None, subok=True[, signature, extobj])\n",
      "\n",
      "Add arguments element-wise.\n",
      "\n",
      "Parameters\n",
      "----------\n",
      "x1, x2 : array_like\n",
      "    The arrays to be added.\n",
      "    If ``x1.shape != x2.shape``, they must be broadcastable to a common\n",
      "    shape (which becomes the shape of the output).\n",
      "out : ndarray, None, or tuple of ndarray and None, optional\n",
      "    A location into which the result is stored. If provided, it must have\n",
      "    a shape that the inputs broadcast to. If not provided or None,\n",
      "    a freshly-allocated array is returned. A tuple (possible only as a\n",
      "    keyword argument) must have length equal to the number of outputs.\n",
      "where : array_like, optional\n",
      "    This condition is broadcast over the input. At locations where the\n",
      "    condition is True, the `out` array will be set to the ufunc result.\n",
      "    Elsewhere, the `out` array will retain its original value.\n",
      "    Note that if an uninitialized `out` array is created via the default\n",
      "    ``out=None``, locations within it where the condition is False will\n",
      "    remain uninitialized.\n",
      "**kwargs\n",
      "    For other keyword-only arguments, see the\n",
      "    :ref:`ufunc docs <ufuncs.kwargs>`.\n",
      "\n",
      "Returns\n",
      "-------\n",
      "add : ndarray or scalar\n",
      "    The sum of `x1` and `x2`, element-wise.\n",
      "    This is a scalar if both `x1` and `x2` are scalars.\n",
      "\n",
      "Notes\n",
      "-----\n",
      "Equivalent to `x1` + `x2` in terms of array broadcasting.\n",
      "\n",
      "Examples\n",
      "--------\n",
      ">>> np.add(1.0, 4.0)\n",
      "5.0\n",
      ">>> x1 = np.arange(9.0).reshape((3, 3))\n",
      ">>> x2 = np.arange(3.0)\n",
      ">>> np.add(x1, x2)\n",
      "array([[  0.,   2.,   4.],\n",
      "       [  3.,   5.,   7.],\n",
      "       [  6.,   8.,  10.]])\n",
      "\n",
      "The ``+`` operator can be used as a shorthand for ``np.add`` on ndarrays.\n",
      "\n",
      ">>> x1 = np.arange(9.0).reshape((3, 3))\n",
      ">>> x2 = np.arange(3.0)\n",
      ">>> x1 + x2\n",
      "array([[ 0.,  2.,  4.],\n",
      "       [ 3.,  5.,  7.],\n",
      "       [ 6.,  8., 10.]])\n"
     ]
    }
   ],
   "source": [
    "np.info(np.add)\n"
   ]
  },
  {
   "cell_type": "markdown",
   "metadata": {},
   "source": [
    "No. 6"
   ]
  },
  {
   "cell_type": "code",
   "execution_count": 10,
   "metadata": {},
   "outputs": [
    {
     "name": "stdout",
     "output_type": "stream",
     "text": [
      "[0. 0. 0. 0. 1. 0. 0. 0. 0. 0.]\n"
     ]
    }
   ],
   "source": [
    "null_vector = np.zeros(10)\n",
    "null_vector[4] = 1\n",
    "print(null_vector)\n"
   ]
  },
  {
   "cell_type": "markdown",
   "metadata": {},
   "source": [
    "No. 7"
   ]
  },
  {
   "cell_type": "code",
   "execution_count": 11,
   "metadata": {},
   "outputs": [
    {
     "name": "stdout",
     "output_type": "stream",
     "text": [
      "[10 11 12 13 14 15 16 17 18 19 20 21 22 23 24 25 26 27 28 29 30 31 32 33\n",
      " 34 35 36 37 38 39 40 41 42 43 44 45 46 47 48 49]\n"
     ]
    }
   ],
   "source": [
    "vector = np.arange(10, 50)\n",
    "print(vector)\n"
   ]
  },
  {
   "cell_type": "markdown",
   "metadata": {},
   "source": [
    "No. 8"
   ]
  },
  {
   "cell_type": "code",
   "execution_count": 12,
   "metadata": {},
   "outputs": [
    {
     "name": "stdout",
     "output_type": "stream",
     "text": [
      "[9 8 7 6 5 4 3 2 1 0]\n"
     ]
    }
   ],
   "source": [
    "v = np.arange(10) # create a vector with values from 0 to 9\n",
    "v_reversed = v[::-1] # reverse the vector\n",
    "print(v_reversed) # [9 8 7 6 5 4 3 2 1 0]\n"
   ]
  },
  {
   "cell_type": "markdown",
   "metadata": {},
   "source": [
    "No. 9"
   ]
  },
  {
   "cell_type": "code",
   "execution_count": 13,
   "metadata": {},
   "outputs": [
    {
     "name": "stdout",
     "output_type": "stream",
     "text": [
      "[[0 1 2]\n",
      " [3 4 5]\n",
      " [6 7 8]]\n"
     ]
    }
   ],
   "source": [
    "matrix = np.arange(0, 9).reshape(3, 3)\n",
    "print(matrix)\n"
   ]
  },
  {
   "cell_type": "markdown",
   "metadata": {},
   "source": [
    "No. 10"
   ]
  },
  {
   "cell_type": "code",
   "execution_count": 14,
   "metadata": {},
   "outputs": [
    {
     "name": "stdout",
     "output_type": "stream",
     "text": [
      "(array([0, 1, 4], dtype=int64),)\n"
     ]
    }
   ],
   "source": [
    "array = np.array([1,2,0,0,4,0])\n",
    "indices = np.nonzero(array)\n",
    "print(indices) # (array([0, 1, 4]),)\n"
   ]
  },
  {
   "cell_type": "markdown",
   "metadata": {},
   "source": [
    "No. 11"
   ]
  },
  {
   "cell_type": "code",
   "execution_count": 15,
   "metadata": {},
   "outputs": [
    {
     "name": "stdout",
     "output_type": "stream",
     "text": [
      "[[1. 0. 0.]\n",
      " [0. 1. 0.]\n",
      " [0. 0. 1.]]\n"
     ]
    }
   ],
   "source": [
    "matrix = np.identity(3)\n",
    "print(matrix)\n"
   ]
  },
  {
   "cell_type": "markdown",
   "metadata": {},
   "source": [
    "No. 12"
   ]
  },
  {
   "cell_type": "code",
   "execution_count": 16,
   "metadata": {},
   "outputs": [
    {
     "name": "stdout",
     "output_type": "stream",
     "text": [
      "[[[0.85475804 0.31401897 0.24148407]\n",
      "  [0.84015306 0.88726615 0.7912744 ]\n",
      "  [0.80680456 0.68452305 0.11173133]]\n",
      "\n",
      " [[0.67122164 0.56865618 0.0379176 ]\n",
      "  [0.63352005 0.86238269 0.67047158]\n",
      "  [0.42139623 0.61970698 0.06541967]]\n",
      "\n",
      " [[0.5331271  0.17541697 0.65230315]\n",
      "  [0.44872496 0.05173256 0.63639225]\n",
      "  [0.1764182  0.25523477 0.12113932]]]\n"
     ]
    }
   ],
   "source": [
    "import numpy as np\n",
    "array = np.random.random((3, 3, 3))\n",
    "print(array)\n"
   ]
  },
  {
   "cell_type": "markdown",
   "metadata": {},
   "source": [
    "No. 13"
   ]
  },
  {
   "cell_type": "code",
   "execution_count": 17,
   "metadata": {},
   "outputs": [
    {
     "name": "stdout",
     "output_type": "stream",
     "text": [
      "[[0.96928431 0.36913171 0.19831295 0.01686617 0.0127353  0.29879478\n",
      "  0.55425687 0.99722227 0.13218549 0.48357586]\n",
      " [0.11012935 0.19918455 0.53353291 0.35406452 0.24340012 0.20028656\n",
      "  0.73852079 0.06409344 0.85122477 0.54145519]\n",
      " [0.58887483 0.99092637 0.74398787 0.45983563 0.72317982 0.77032026\n",
      "  0.01134958 0.74455481 0.91399068 0.49310789]\n",
      " [0.09286025 0.57388267 0.48426777 0.49187557 0.01473206 0.39726315\n",
      "  0.33182689 0.15837188 0.08136686 0.95597589]\n",
      " [0.40596586 0.68975246 0.615413   0.67114264 0.20285024 0.49151551\n",
      "  0.51359979 0.63323625 0.68852117 0.25210429]\n",
      " [0.80675075 0.92713466 0.61754463 0.584665   0.70554053 0.88531398\n",
      "  0.74596016 0.28315064 0.62637499 0.85113224]\n",
      " [0.65165597 0.98773191 0.86326761 0.49018529 0.56988027 0.33707082\n",
      "  0.98056521 0.44858695 0.18782406 0.65698899]\n",
      " [0.60784948 0.24619559 0.79969282 0.46307763 0.63180379 0.28511552\n",
      "  0.4174294  0.06443613 0.63039468 0.86374763]\n",
      " [0.82717846 0.74843279 0.85319982 0.47301511 0.22960539 0.22435834\n",
      "  0.5327386  0.20979804 0.53481986 0.96066612]\n",
      " [0.35980019 0.71759787 0.13725101 0.12310028 0.75211698 0.6227882\n",
      "  0.99760415 0.44274288 0.45456494 0.47510797]]\n",
      "0.011349581852176271\n",
      "0.997604145012795\n"
     ]
    }
   ],
   "source": [
    "\n",
    "array = np.random.random((10, 10)) # create a 10x10 array with random values\n",
    "min_value = np.min(array) # find the minimum value in the array\n",
    "max_value = np.max(array) # find the maximum value in the array\n",
    "print(array)\n",
    "print(min_value)\n",
    "print(max_value)\n"
   ]
  },
  {
   "cell_type": "markdown",
   "metadata": {},
   "source": [
    "No. 14"
   ]
  },
  {
   "cell_type": "code",
   "execution_count": 18,
   "metadata": {},
   "outputs": [
    {
     "name": "stdout",
     "output_type": "stream",
     "text": [
      "[0.93086298 0.67935625 0.17140651 0.69270837 0.64763437 0.86491853\n",
      " 0.01114189 0.36728761 0.57739114 0.2880358  0.98748548 0.93306358\n",
      " 0.54218654 0.86882951 0.68194598 0.49471315 0.08567393 0.30026584\n",
      " 0.86933943 0.83728739 0.99985742 0.92850878 0.08333948 0.35759937\n",
      " 0.69156191 0.24967212 0.02867179 0.5449424  0.07256474 0.95628075]\n",
      "0.5581511015604026\n"
     ]
    }
   ],
   "source": [
    "vector = np.random.random(30) # create a random vector of size 30\n",
    "mean_value = np.mean(vector) # find the mean value of the vector\n",
    "print(vector)\n",
    "print(mean_value)\n"
   ]
  },
  {
   "cell_type": "markdown",
   "metadata": {},
   "source": [
    "No. 15"
   ]
  },
  {
   "cell_type": "code",
   "execution_count": 19,
   "metadata": {},
   "outputs": [
    {
     "name": "stdout",
     "output_type": "stream",
     "text": [
      "[[1. 1. 1. 1. 1. 1. 1.]\n",
      " [1. 0. 0. 0. 0. 0. 1.]\n",
      " [1. 0. 0. 0. 0. 0. 1.]\n",
      " [1. 0. 0. 0. 0. 0. 1.]\n",
      " [1. 0. 0. 0. 0. 0. 1.]\n",
      " [1. 0. 0. 0. 0. 0. 1.]\n",
      " [1. 1. 1. 1. 1. 1. 1.]]\n"
     ]
    }
   ],
   "source": [
    "import numpy as np\n",
    "array = np.zeros((5, 5)) # create a 5x5 array with zeros\n",
    "array = np.pad(array, 1, mode='constant', constant_values=1) # add a border of 1s\n",
    "print(array)"
   ]
  },
  {
   "cell_type": "markdown",
   "metadata": {},
   "source": [
    "No. 16"
   ]
  },
  {
   "cell_type": "code",
   "execution_count": 20,
   "metadata": {},
   "outputs": [
    {
     "name": "stdout",
     "output_type": "stream",
     "text": [
      "[[0. 0. 0. 0. 0. 0.]\n",
      " [0. 0. 0. 0. 0. 0.]\n",
      " [0. 0. 0. 0. 0. 0.]\n",
      " [0. 0. 0. 0. 0. 0.]\n",
      " [0. 0. 0. 0. 0. 0.]\n",
      " [0. 0. 0. 0. 0. 0.]]\n"
     ]
    }
   ],
   "source": [
    "\n",
    "b = np.pad(a, 1, mode='constant', constant_values=0)\n",
    "print(b)"
   ]
  },
  {
   "cell_type": "markdown",
   "metadata": {},
   "source": [
    "No. 17"
   ]
  },
  {
   "cell_type": "code",
   "execution_count": 21,
   "metadata": {},
   "outputs": [
    {
     "data": {
      "text/plain": [
       "False"
      ]
     },
     "execution_count": 21,
     "metadata": {},
     "output_type": "execute_result"
    }
   ],
   "source": [
    "\n",
    "0 * np.nan\n",
    "np.nan == np.nan\n",
    "np.inf > np.nan\n",
    "np.nan - np.nan\n",
    "np.nan in set([np.nan])\n",
    "0.3 == 3 * 0.1"
   ]
  },
  {
   "cell_type": "markdown",
   "metadata": {},
   "source": [
    "No. 18"
   ]
  },
  {
   "cell_type": "code",
   "execution_count": 22,
   "metadata": {},
   "outputs": [
    {
     "name": "stdout",
     "output_type": "stream",
     "text": [
      "[[0 0 0 0 0]\n",
      " [1 0 0 0 0]\n",
      " [0 2 0 0 0]\n",
      " [0 0 3 0 0]\n",
      " [0 0 0 4 0]]\n"
     ]
    }
   ],
   "source": [
    "\n",
    "matrix = np.diag([1, 2, 3, 4], k=-1)\n",
    "print(matrix)"
   ]
  },
  {
   "cell_type": "markdown",
   "metadata": {},
   "source": [
    "no. 19"
   ]
  },
  {
   "cell_type": "code",
   "execution_count": 23,
   "metadata": {},
   "outputs": [
    {
     "name": "stdout",
     "output_type": "stream",
     "text": [
      "[[0 1 0 1 0 1 0 1]\n",
      " [1 0 1 0 1 0 1 0]\n",
      " [0 1 0 1 0 1 0 1]\n",
      " [1 0 1 0 1 0 1 0]\n",
      " [0 1 0 1 0 1 0 1]\n",
      " [1 0 1 0 1 0 1 0]\n",
      " [0 1 0 1 0 1 0 1]\n",
      " [1 0 1 0 1 0 1 0]]\n"
     ]
    }
   ],
   "source": [
    "matrix = np.zeros((8, 8), dtype=int) # create a 8x8 matrix with zeros\n",
    "matrix[1::2, ::2] = 1 # fill every other element in every other row with 1\n",
    "matrix[::2, 1::2] = 1 # fill every other element in every other column with 1\n",
    "print(matrix) # print the matrix\n"
   ]
  },
  {
   "cell_type": "markdown",
   "metadata": {},
   "source": [
    "No. 20"
   ]
  },
  {
   "cell_type": "code",
   "execution_count": 24,
   "metadata": {},
   "outputs": [
    {
     "name": "stdout",
     "output_type": "stream",
     "text": [
      "99\n"
     ]
    }
   ],
   "source": [
    "array = np.arange(6*7*8).reshape(6,7,8) # create an array of shape (6,7,8) with values from 0 to 335\n",
    "element = array[1, 5, 3] # access the element at the index (1, 5, 3)\n",
    "print(element) # 99\n"
   ]
  },
  {
   "cell_type": "markdown",
   "metadata": {},
   "source": [
    "No. 21"
   ]
  },
  {
   "cell_type": "code",
   "execution_count": 25,
   "metadata": {},
   "outputs": [
    {
     "name": "stdout",
     "output_type": "stream",
     "text": [
      "[[0 1 0 1 0 1 0 1]\n",
      " [1 0 1 0 1 0 1 0]\n",
      " [0 1 0 1 0 1 0 1]\n",
      " [1 0 1 0 1 0 1 0]\n",
      " [0 1 0 1 0 1 0 1]\n",
      " [1 0 1 0 1 0 1 0]\n",
      " [0 1 0 1 0 1 0 1]\n",
      " [1 0 1 0 1 0 1 0]]\n"
     ]
    }
   ],
   "source": [
    "import numpy as np\n",
    "matrix = np.tile(np.array([[0, 1], [1, 0]]), (4, 4))\n",
    "print(matrix)"
   ]
  },
  {
   "cell_type": "markdown",
   "metadata": {},
   "source": [
    "No. 22"
   ]
  },
  {
   "cell_type": "code",
   "execution_count": 26,
   "metadata": {},
   "outputs": [
    {
     "name": "stdout",
     "output_type": "stream",
     "text": [
      "Original array:\n",
      "[[0.78930932 0.40100446 0.62470706 0.03348828 0.5580696 ]\n",
      " [0.81849937 0.97330735 0.61305938 0.93255106 0.85178645]\n",
      " [0.66156567 0.17726325 0.98809113 0.73605814 0.68906749]\n",
      " [0.44686979 0.72108674 0.82169975 0.35944107 0.9167266 ]\n",
      " [0.11266165 0.47327947 0.51306136 0.33362936 0.30073371]]\n",
      "Normalized array:\n",
      "[[ 0.73123114 -0.72168096  0.11534235 -2.09680852 -0.13399363]\n",
      " [ 0.84045094  1.41969271  0.07176045  1.26719574  0.96500052]\n",
      " [ 0.25325543 -1.55884876  1.47500888  0.53198235  0.35615842]\n",
      " [-0.55006763  0.47596417  0.85242574 -0.87719782  1.20798572]\n",
      " [-1.80056721 -0.4512511  -0.30240004 -0.97377696 -1.09686194]]\n"
     ]
    }
   ],
   "source": [
    "# create a 5x5 array with random values\n",
    "array = np.random.random((5, 5))\n",
    "# compute the mean and the standard deviation of the array\n",
    "mean = np.mean(array)\n",
    "std = np.std(array)\n",
    "# normalize the array\n",
    "normalized = (array - mean) / std\n",
    "# print the original and the normalized array\n",
    "print(\"Original array:\")\n",
    "print(array)\n",
    "print(\"Normalized array:\")\n",
    "print(normalized)\n"
   ]
  },
  {
   "cell_type": "markdown",
   "metadata": {},
   "source": [
    "No. 23"
   ]
  },
  {
   "cell_type": "code",
   "execution_count": 27,
   "metadata": {},
   "outputs": [
    {
     "name": "stderr",
     "output_type": "stream",
     "text": [
      "C:\\Users\\USER\\AppData\\Local\\Temp\\ipykernel_15512\\2071076555.py:1: FutureWarning: Passing (type, 1) or '1type' as a synonym of type is deprecated; in a future version of numpy, it will be understood as (type, (1,)) / '(1,)type'.\n",
      "  color = np.dtype([(\"r\", np.ubyte, 1), # r is the red component, np.ubyte is an unsigned byte, 1 is the size in bytes\n"
     ]
    },
    {
     "name": "stdout",
     "output_type": "stream",
     "text": [
      "[('r', 'u1'), ('g', 'u1'), ('b', 'u1'), ('a', 'u1')]\n"
     ]
    }
   ],
   "source": [
    "color = np.dtype([(\"r\", np.ubyte, 1), # r is the red component, np.ubyte is an unsigned byte, 1 is the size in bytes\n",
    "                  (\"g\", np.ubyte, 1), # g is the green component\n",
    "                  (\"b\", np.ubyte, 1), # b is the blue component\n",
    "                  (\"a\", np.ubyte, 1)]) # a is the alpha component\n",
    "print(color)"
   ]
  },
  {
   "cell_type": "markdown",
   "metadata": {},
   "source": [
    "no. 24"
   ]
  },
  {
   "cell_type": "code",
   "execution_count": 28,
   "metadata": {},
   "outputs": [
    {
     "name": "stdout",
     "output_type": "stream",
     "text": [
      "[[ 10  13]\n",
      " [ 28  40]\n",
      " [ 46  67]\n",
      " [ 64  94]\n",
      " [ 82 121]]\n"
     ]
    }
   ],
   "source": [
    "# create a 5x3 matrix with values from 0 to 14\n",
    "A = np.arange(15).reshape(5, 3)\n",
    "# create a 3x2 matrix with values from 0 to 5\n",
    "B = np.arange(6).reshape(3, 2)\n",
    "# multiply the matrices and store the result in C\n",
    "C = np.dot(A, B)\n",
    "# print the output matrix\n",
    "print(C)\n"
   ]
  },
  {
   "cell_type": "markdown",
   "metadata": {},
   "source": [
    "No. 25"
   ]
  },
  {
   "cell_type": "code",
   "execution_count": 29,
   "metadata": {},
   "outputs": [
    {
     "name": "stdout",
     "output_type": "stream",
     "text": [
      "[ 1  2  3 -4 -5 -6 -7  8  9 10]\n"
     ]
    }
   ],
   "source": [
    "# create a 1D array with some values\n",
    "array = np.array([1, 2, 3, 4, 5, 6, 7, 8, 9, 10])\n",
    "# create a boolean mask that selects the elements between 3 and 8\n",
    "mask = (array > 3) & (array < 8)\n",
    "# negate the selected elements in place\n",
    "array[mask] *= -1\n",
    "# print the modified array\n",
    "print(array)\n"
   ]
  },
  {
   "cell_type": "markdown",
   "metadata": {},
   "source": [
    "no. 26"
   ]
  },
  {
   "cell_type": "code",
   "execution_count": 30,
   "metadata": {},
   "outputs": [
    {
     "name": "stdout",
     "output_type": "stream",
     "text": [
      "9\n",
      "10\n"
     ]
    }
   ],
   "source": [
    "# Author: Jake VanderPlas\n",
    "\n",
    "print(sum(range(5),-1))\n",
    "from numpy import *\n",
    "print(sum(range(5),-1))"
   ]
  },
  {
   "cell_type": "markdown",
   "metadata": {},
   "source": [
    "No. 27\n",
    "Z**Z is legal because it raises Z to the power of Z. For example, if Z is 2, then Z**Z is 4.\n",
    "2 << Z >> 2 is legal because it is the bitwise left and right shift operators, which shift the binary representation of 2 by Z bits to the left and then to the right. For example, if Z is 1, then 2 << Z >> 2 is 1.\n",
    "Z <- Z is legal because it is the comparison operator, which checks if Z is less than negative Z. For example, if Z is 1, then Z <- Z is False.\n",
    "1j*Z is legal because it is the complex number multiplication operator, which multiplies Z by the imaginary unit 1j. For example, if Z is 2, then 1j*Z is 2j.\n",
    "Z/1/1 is legal because is the division operator, which divides Z by 1 and then by 1 again. For example, if Z is 2, then Z/1/1 is 2.0.\n"
   ]
  },
  {
   "cell_type": "markdown",
   "metadata": {},
   "source": [
    "no. 28"
   ]
  },
  {
   "cell_type": "code",
   "execution_count": 31,
   "metadata": {},
   "outputs": [
    {
     "name": "stderr",
     "output_type": "stream",
     "text": [
      "C:\\Users\\USER\\AppData\\Local\\Temp\\ipykernel_15512\\548293649.py:1: RuntimeWarning: invalid value encountered in divide\n",
      "  np.array(0) / np.array(0)\n",
      "C:\\Users\\USER\\AppData\\Local\\Temp\\ipykernel_15512\\548293649.py:2: RuntimeWarning: divide by zero encountered in floor_divide\n",
      "  np.array(0) // np.array(0)\n"
     ]
    },
    {
     "data": {
      "text/plain": [
       "array([-2.14748365e+09])"
      ]
     },
     "execution_count": 31,
     "metadata": {},
     "output_type": "execute_result"
    }
   ],
   "source": [
    "np.array(0) / np.array(0)\n",
    "np.array(0) // np.array(0)\n",
    "np.array([np.nan]).astype(int).astype(float)"
   ]
  },
  {
   "cell_type": "markdown",
   "metadata": {},
   "source": [
    "No. 29"
   ]
  },
  {
   "cell_type": "code",
   "execution_count": 32,
   "metadata": {},
   "outputs": [
    {
     "name": "stdout",
     "output_type": "stream",
     "text": [
      "[-2. -1.  1.  2.]\n"
     ]
    }
   ],
   "source": [
    "array = np.array([-1.5, -0.5, 0.5, 1.5]) # create a float array\n",
    "rounded = np.copysign(np.ceil(np.abs(array)), array) # round away from zero\n",
    "print(rounded) # [-2. -1.  1.  2.]\n"
   ]
  },
  {
   "cell_type": "markdown",
   "metadata": {},
   "source": [
    "No. 30"
   ]
  },
  {
   "cell_type": "code",
   "execution_count": 33,
   "metadata": {},
   "outputs": [
    {
     "name": "stdout",
     "output_type": "stream",
     "text": [
      "[3 4 5]\n"
     ]
    }
   ],
   "source": [
    "array1 = np.array([1, 2, 3, 4, 5])\n",
    "array2 = np.array([3, 4, 5, 6, 7])\n",
    "common = np.intersect1d(array1, array2)\n",
    "print(common) # [3 4 5]\n"
   ]
  },
  {
   "cell_type": "markdown",
   "metadata": {},
   "source": [
    "No. 31\n"
   ]
  },
  {
   "cell_type": "code",
   "execution_count": 1,
   "metadata": {},
   "outputs": [
    {
     "name": "stderr",
     "output_type": "stream",
     "text": [
      "c:\\Users\\USER\\AppData\\Local\\Programs\\Python\\Python310\\lib\\site-packages\\numpy\\lib\\nanfunctions.py:1217: RuntimeWarning: All-NaN slice encountered\n",
      "  r, k = function_base._ureduce(a, func=_nanmedian, axis=axis, out=out,\n"
     ]
    },
    {
     "data": {
      "text/plain": [
       "array([nan, nan, nan, nan, nan, nan, nan, nan, nan, nan])"
      ]
     },
     "execution_count": 1,
     "metadata": {},
     "output_type": "execute_result"
    }
   ],
   "source": [
    "import numpy as np\n",
    "data = np.random.random(1000).reshape(10, 10, 10) * np.nan\n",
    "np.seterr(all=\"ignore\")\n",
    "np.nanmedian(data, axis=[1, 2])\n"
   ]
  },
  {
   "cell_type": "markdown",
   "metadata": {},
   "source": [
    "No. 32"
   ]
  },
  {
   "cell_type": "code",
   "execution_count": 2,
   "metadata": {},
   "outputs": [
    {
     "data": {
      "text/plain": [
       "False"
      ]
     },
     "execution_count": 2,
     "metadata": {},
     "output_type": "execute_result"
    }
   ],
   "source": [
    "np.sqrt(-1) == np.emath.sqrt(-1)"
   ]
  },
  {
   "cell_type": "markdown",
   "metadata": {},
   "source": [
    "No. 33"
   ]
  },
  {
   "cell_type": "code",
   "execution_count": 3,
   "metadata": {},
   "outputs": [
    {
     "name": "stdout",
     "output_type": "stream",
     "text": [
      "Yesterday: 2024-02-09\n",
      "Today: 2024-02-10\n",
      "Tomorrow: 2024-02-11\n"
     ]
    }
   ],
   "source": [
    "\n",
    "# Calculate yesterday's date\n",
    "yesterday = np.datetime64('today', 'D') - np.timedelta64(1, 'D')\n",
    "print(f\"Yesterday: {yesterday}\")\n",
    "\n",
    "# Calculate today's date\n",
    "today = np.datetime64('today', 'D')\n",
    "print(f\"Today: {today}\")\n",
    "\n",
    "# Calculate tomorrow's date\n",
    "tomorrow = np.datetime64('today', 'D') + np.timedelta64(1, 'D')\n",
    "print(f\"Tomorrow: {tomorrow}\")\n"
   ]
  },
  {
   "cell_type": "markdown",
   "metadata": {},
   "source": [
    "No. 34"
   ]
  },
  {
   "cell_type": "code",
   "execution_count": 6,
   "metadata": {},
   "outputs": [
    {
     "name": "stdout",
     "output_type": "stream",
     "text": [
      "Dates for July 2016:\n",
      "['2016-07-01' '2016-07-02' '2016-07-03' '2016-07-04' '2016-07-05'\n",
      " '2016-07-06' '2016-07-07' '2016-07-08' '2016-07-09' '2016-07-10'\n",
      " '2016-07-11' '2016-07-12' '2016-07-13' '2016-07-14' '2016-07-15'\n",
      " '2016-07-16' '2016-07-17' '2016-07-18' '2016-07-19' '2016-07-20'\n",
      " '2016-07-21' '2016-07-22' '2016-07-23' '2016-07-24' '2016-07-25'\n",
      " '2016-07-26' '2016-07-27' '2016-07-28' '2016-07-29' '2016-07-30'\n",
      " '2016-07-31']\n"
     ]
    }
   ],
   "source": [
    "import numpy as np\n",
    "\n",
    "dates_july_2016 = np.arange('2016-07', '2016-08', dtype='datetime64[D]')\n",
    "print(\"Dates for July 2016:\")\n",
    "print(dates_july_2016)\n"
   ]
  },
  {
   "cell_type": "markdown",
   "metadata": {},
   "source": [
    "No. 35"
   ]
  },
  {
   "cell_type": "code",
   "execution_count": 4,
   "metadata": {},
   "outputs": [
    {
     "name": "stdout",
     "output_type": "stream",
     "text": [
      "Result (A): [-1.5 -1.5 -1.5]\n"
     ]
    }
   ],
   "source": [
    "\n",
    "# Initialize arrays A and B\n",
    "A = np.ones(3) * 1\n",
    "B = np.ones(3) * 2\n",
    "\n",
    "# Perform the operations in place\n",
    "np.add(A, B, out=B)        # B = A + B\n",
    "np.divide(A, 2, out=A)     # A = A / 2\n",
    "np.negative(A, out=A)      # A = -A\n",
    "np.multiply(A, B, out=A)   # A = A * B\n",
    "\n",
    "# Result\n",
    "print(\"Result (A):\", A)\n"
   ]
  },
  {
   "cell_type": "markdown",
   "metadata": {},
   "source": [
    "No. 36"
   ]
  },
  {
   "cell_type": "code",
   "execution_count": 5,
   "metadata": {},
   "outputs": [
    {
     "name": "stdout",
     "output_type": "stream",
     "text": [
      "Original array: [73.78534273 44.93820603 48.11220684 88.68439179 74.44520835 89.85133675\n",
      " 30.65329609 37.68806881 92.6923173  39.48380631]\n",
      "Floor Division: [73. 44. 48. 88. 74. 89. 30. 37. 92. 39.]\n",
      "Truncate: [73. 44. 48. 88. 74. 89. 30. 37. 92. 39.]\n",
      "Casting to Integer: [73 44 48 88 74 89 30 37 92 39]\n",
      "Using np.floor: [73. 44. 48. 88. 74. 89. 30. 37. 92. 39.]\n",
      "Using np.positive: [73.78534273 44.93820603 48.11220684 88.68439179 74.44520835 89.85133675\n",
      " 30.65329609 37.68806881 92.6923173  39.48380631]\n"
     ]
    }
   ],
   "source": [
    "\n",
    "# Generate a random array of positive numbers\n",
    "random_array = np.random.rand(10) * 100  # Adjust the size and range as needed\n",
    "\n",
    "# Compute integer parts\n",
    "integer_part_floor = random_array // 1\n",
    "integer_part_trunc = np.trunc(random_array)\n",
    "integer_part_cast = random_array.astype(int)\n",
    "integer_part_floor_np = np.floor(random_array)\n",
    "integer_part_positive = np.positive(random_array)\n",
    "\n",
    "# Print results\n",
    "print(\"Original array:\", random_array)\n",
    "print(\"Floor Division:\", integer_part_floor)\n",
    "print(\"Truncate:\", integer_part_trunc)\n",
    "print(\"Casting to Integer:\", integer_part_cast)\n",
    "print(\"Using np.floor:\", integer_part_floor_np)\n",
    "print(\"Using np.positive:\", integer_part_positive)\n"
   ]
  },
  {
   "cell_type": "markdown",
   "metadata": {},
   "source": [
    "No. 37"
   ]
  },
  {
   "cell_type": "code",
   "execution_count": 7,
   "metadata": {},
   "outputs": [
    {
     "name": "stdout",
     "output_type": "stream",
     "text": [
      "Matrix with row values ranging from 0 to 4:\n",
      "[[0. 1. 2. 3. 4.]\n",
      " [0. 1. 2. 3. 4.]\n",
      " [0. 1. 2. 3. 4.]\n",
      " [0. 1. 2. 3. 4.]\n",
      " [0. 1. 2. 3. 4.]]\n"
     ]
    }
   ],
   "source": [
    "import numpy as np\n",
    "\n",
    "# Creating a 5x5 NumPy array filled with zeros\n",
    "x = np.zeros((5, 5))\n",
    "\n",
    "# Adding row values ranging from 0 to 4 to each row of the array 'x'\n",
    "# The values range from 0 to 4 due to np.arange(5)\n",
    "x += np.arange(5)\n",
    "\n",
    "# Displaying the resulting array\n",
    "print(\"Matrix with row values ranging from 0 to 4:\")\n",
    "print(x)\n"
   ]
  },
  {
   "cell_type": "markdown",
   "metadata": {},
   "source": [
    "No. 38"
   ]
  },
  {
   "cell_type": "code",
   "execution_count": 8,
   "metadata": {},
   "outputs": [
    {
     "name": "stdout",
     "output_type": "stream",
     "text": [
      "Generated array: [0 1 2 3 4 5 6 7 8 9]\n"
     ]
    }
   ],
   "source": [
    "\n",
    "# Define a generator function that yields 10 integers\n",
    "def generate_integers():\n",
    "    for i in range(10):\n",
    "        yield i\n",
    "\n",
    "# Create an array from the generator\n",
    "result_array = np.fromiter(generate_integers(), dtype=int)\n",
    "\n",
    "# Display the resulting array\n",
    "print(\"Generated array:\", result_array)\n"
   ]
  },
  {
   "cell_type": "markdown",
   "metadata": {},
   "source": [
    "No. 39"
   ]
  },
  {
   "cell_type": "code",
   "execution_count": 9,
   "metadata": {},
   "outputs": [
    {
     "name": "stdout",
     "output_type": "stream",
     "text": [
      "[0.09090909 0.18181818 0.27272727 0.36363636 0.45454545 0.54545455\n",
      " 0.63636364 0.72727273 0.81818182 0.90909091]\n"
     ]
    }
   ],
   "source": [
    "import numpy as np\n",
    "\n",
    "# Create an array 'x' using NumPy's linspace function,\n",
    "# generating 12 evenly spaced values between 0 and 1 (inclusive) with the 'endpoint' set to True,\n",
    "# and selecting elements from index 1 to the second-to-last index using [1:-1]\n",
    "x = np.linspace(0, 1, 12, endpoint=True)[1:-1]\n",
    "\n",
    "# Printing the array 'x' that was created\n",
    "print(x)\n"
   ]
  },
  {
   "cell_type": "markdown",
   "metadata": {},
   "source": [
    "No. 40"
   ]
  },
  {
   "cell_type": "code",
   "execution_count": 10,
   "metadata": {},
   "outputs": [
    {
     "name": "stdout",
     "output_type": "stream",
     "text": [
      "Original array:\n",
      "[0.98641666 0.07456127 0.33931717 0.60605831 0.50206154 0.85957503\n",
      " 0.68566562 0.76656525 0.96620563 0.43207646]\n",
      "Sorted array:\n",
      "[0.07456127 0.33931717 0.43207646 0.50206154 0.60605831 0.68566562\n",
      " 0.76656525 0.85957503 0.96620563 0.98641666]\n"
     ]
    }
   ],
   "source": [
    "\n",
    "# Generate a 1D array of 10 random numbers between 0 and 1\n",
    "x = np.random.random(10)\n",
    "\n",
    "# Print the original array\n",
    "print(\"Original array:\")\n",
    "print(x)\n",
    "\n",
    "# Sort the array in ascending order\n",
    "x.sort()\n",
    "\n",
    "# Print the sorted array\n",
    "print(\"Sorted array:\")\n",
    "print(x)\n"
   ]
  },
  {
   "cell_type": "markdown",
   "metadata": {},
   "source": [
    "No. 41"
   ]
  },
  {
   "cell_type": "code",
   "execution_count": 11,
   "metadata": {},
   "outputs": [
    {
     "name": "stdout",
     "output_type": "stream",
     "text": [
      "Pure Python Sum: 0.22933169999942038\n",
      "Numpy Sum: 1.3642827000003308\n"
     ]
    }
   ],
   "source": [
    "\n",
    "import timeit\n",
    "\n",
    "x = range(1000)  # or use np.random.standard_normal(1000)\n",
    "\n",
    "def pure_sum():\n",
    "    return sum(x)\n",
    "\n",
    "def numpy_sum():\n",
    "    return np.sum(x)\n",
    "\n",
    "n = 10000\n",
    "t1 = timeit.timeit(pure_sum, number=n)\n",
    "print(\"Pure Python Sum:\", t1)\n",
    "\n",
    "t2 = timeit.timeit(numpy_sum, number=n)\n",
    "print(\"Numpy Sum:\", t2)\n"
   ]
  },
  {
   "cell_type": "markdown",
   "metadata": {},
   "source": [
    "No. 42"
   ]
  },
  {
   "cell_type": "code",
   "execution_count": 12,
   "metadata": {},
   "outputs": [
    {
     "name": "stdout",
     "output_type": "stream",
     "text": [
      "Arrays A and B are not equal.\n"
     ]
    }
   ],
   "source": [
    "import numpy as np\n",
    "\n",
    "# Create two random arrays A and B (you can replace these with your actual arrays)\n",
    "A = np.random.rand(10)\n",
    "B = np.random.rand(10)\n",
    "\n",
    "# Check if A and B are equal\n",
    "if np.array_equal(A, B):\n",
    "    print(\"Both arrays A and B are equal.\")\n",
    "else:\n",
    "    print(\"Arrays A and B are not equal.\")\n"
   ]
  },
  {
   "cell_type": "markdown",
   "metadata": {},
   "source": [
    "No. 43"
   ]
  },
  {
   "cell_type": "code",
   "execution_count": 13,
   "metadata": {},
   "outputs": [
    {
     "name": "stdout",
     "output_type": "stream",
     "text": [
      "Error: The array is read-only and cannot be modified.\n",
      "Array content: [0 1 2 3 4 5 6 7 8 9]\n"
     ]
    }
   ],
   "source": [
    "import numpy as np\n",
    "\n",
    "# Create a sample NumPy array\n",
    "my_array = np.arange(10)\n",
    "\n",
    "# Make the array read-only\n",
    "my_array.flags.writeable = False\n",
    "\n",
    "# Try to modify an element (this will raise a ValueError)\n",
    "try:\n",
    "    my_array[0] = 1\n",
    "except ValueError:\n",
    "    print(\"Error: The array is read-only and cannot be modified.\")\n",
    "\n",
    "# Access the array (no modification allowed)\n",
    "print(\"Array content:\", my_array)\n"
   ]
  },
  {
   "cell_type": "markdown",
   "metadata": {},
   "source": [
    "No. 44"
   ]
  },
  {
   "cell_type": "code",
   "execution_count": 14,
   "metadata": {},
   "outputs": [
    {
     "name": "stdout",
     "output_type": "stream",
     "text": [
      "Point 1: (r = 0.542, θ = 0.716 radians)\n",
      "Point 2: (r = 1.191, θ = 0.833 radians)\n",
      "Point 3: (r = 1.043, θ = 0.776 radians)\n",
      "Point 4: (r = 0.680, θ = 0.428 radians)\n",
      "Point 5: (r = 0.842, θ = 1.448 radians)\n",
      "Point 6: (r = 0.473, θ = 0.944 radians)\n",
      "Point 7: (r = 0.856, θ = 0.208 radians)\n",
      "Point 8: (r = 0.302, θ = 0.921 radians)\n",
      "Point 9: (r = 1.026, θ = 1.071 radians)\n",
      "Point 10: (r = 0.802, θ = 0.108 radians)\n"
     ]
    }
   ],
   "source": [
    "import numpy as np\n",
    "\n",
    "# Create a random 10x2 matrix (replace with your actual data)\n",
    "cartesian_matrix = np.random.rand(10, 2)\n",
    "\n",
    "# Calculate polar coordinates\n",
    "r_values = np.sqrt(cartesian_matrix[:, 0]**2 + cartesian_matrix[:, 1]**2)\n",
    "theta_values = np.arctan2(cartesian_matrix[:, 1], cartesian_matrix[:, 0])\n",
    "\n",
    "# Display polar coordinates\n",
    "for i in range(len(cartesian_matrix)):\n",
    "    print(f\"Point {i+1}: (r = {r_values[i]:.3f}, θ = {theta_values[i]:.3f} radians)\")\n"
   ]
  },
  {
   "cell_type": "markdown",
   "metadata": {},
   "source": [
    "No. 45"
   ]
  },
  {
   "cell_type": "code",
   "execution_count": 15,
   "metadata": {},
   "outputs": [
    {
     "name": "stdout",
     "output_type": "stream",
     "text": [
      "Random vector with maximum value replaced by 0:\n",
      "[0.01524443 0.05536893 0.67122153 0.57412682 0.23543639 0.37895793\n",
      " 0.61082738 0.         0.31028585 0.6555925 ]\n"
     ]
    }
   ],
   "source": [
    "import numpy as np\n",
    "\n",
    "# Generate a random vector of size 10\n",
    "random_vector = np.random.rand(10)\n",
    "\n",
    "# Find the maximum value in the vector\n",
    "max_value = np.max(random_vector)\n",
    "\n",
    "# Replace the maximum value with 0\n",
    "random_vector[random_vector.argmax()] = 0\n",
    "\n",
    "# Display the modified vector\n",
    "print(\"Random vector with maximum value replaced by 0:\")\n",
    "print(random_vector)\n"
   ]
  },
  {
   "cell_type": "markdown",
   "metadata": {},
   "source": [
    "No. 46"
   ]
  },
  {
   "cell_type": "code",
   "execution_count": 16,
   "metadata": {},
   "outputs": [
    {
     "name": "stdout",
     "output_type": "stream",
     "text": [
      "Structured array with x and y coordinates:\n",
      "[[(0.        , 0.        ) (0.11111111, 0.        )\n",
      "  (0.22222222, 0.        ) (0.33333333, 0.        )\n",
      "  (0.44444444, 0.        ) (0.55555556, 0.        )\n",
      "  (0.66666667, 0.        ) (0.77777778, 0.        )\n",
      "  (0.88888889, 0.        ) (1.        , 0.        )]\n",
      " [(0.        , 0.11111111) (0.11111111, 0.11111111)\n",
      "  (0.22222222, 0.11111111) (0.33333333, 0.11111111)\n",
      "  (0.44444444, 0.11111111) (0.55555556, 0.11111111)\n",
      "  (0.66666667, 0.11111111) (0.77777778, 0.11111111)\n",
      "  (0.88888889, 0.11111111) (1.        , 0.11111111)]\n",
      " [(0.        , 0.22222222) (0.11111111, 0.22222222)\n",
      "  (0.22222222, 0.22222222) (0.33333333, 0.22222222)\n",
      "  (0.44444444, 0.22222222) (0.55555556, 0.22222222)\n",
      "  (0.66666667, 0.22222222) (0.77777778, 0.22222222)\n",
      "  (0.88888889, 0.22222222) (1.        , 0.22222222)]\n",
      " [(0.        , 0.33333333) (0.11111111, 0.33333333)\n",
      "  (0.22222222, 0.33333333) (0.33333333, 0.33333333)\n",
      "  (0.44444444, 0.33333333) (0.55555556, 0.33333333)\n",
      "  (0.66666667, 0.33333333) (0.77777778, 0.33333333)\n",
      "  (0.88888889, 0.33333333) (1.        , 0.33333333)]\n",
      " [(0.        , 0.44444444) (0.11111111, 0.44444444)\n",
      "  (0.22222222, 0.44444444) (0.33333333, 0.44444444)\n",
      "  (0.44444444, 0.44444444) (0.55555556, 0.44444444)\n",
      "  (0.66666667, 0.44444444) (0.77777778, 0.44444444)\n",
      "  (0.88888889, 0.44444444) (1.        , 0.44444444)]\n",
      " [(0.        , 0.55555556) (0.11111111, 0.55555556)\n",
      "  (0.22222222, 0.55555556) (0.33333333, 0.55555556)\n",
      "  (0.44444444, 0.55555556) (0.55555556, 0.55555556)\n",
      "  (0.66666667, 0.55555556) (0.77777778, 0.55555556)\n",
      "  (0.88888889, 0.55555556) (1.        , 0.55555556)]\n",
      " [(0.        , 0.66666667) (0.11111111, 0.66666667)\n",
      "  (0.22222222, 0.66666667) (0.33333333, 0.66666667)\n",
      "  (0.44444444, 0.66666667) (0.55555556, 0.66666667)\n",
      "  (0.66666667, 0.66666667) (0.77777778, 0.66666667)\n",
      "  (0.88888889, 0.66666667) (1.        , 0.66666667)]\n",
      " [(0.        , 0.77777778) (0.11111111, 0.77777778)\n",
      "  (0.22222222, 0.77777778) (0.33333333, 0.77777778)\n",
      "  (0.44444444, 0.77777778) (0.55555556, 0.77777778)\n",
      "  (0.66666667, 0.77777778) (0.77777778, 0.77777778)\n",
      "  (0.88888889, 0.77777778) (1.        , 0.77777778)]\n",
      " [(0.        , 0.88888889) (0.11111111, 0.88888889)\n",
      "  (0.22222222, 0.88888889) (0.33333333, 0.88888889)\n",
      "  (0.44444444, 0.88888889) (0.55555556, 0.88888889)\n",
      "  (0.66666667, 0.88888889) (0.77777778, 0.88888889)\n",
      "  (0.88888889, 0.88888889) (1.        , 0.88888889)]\n",
      " [(0.        , 1.        ) (0.11111111, 1.        )\n",
      "  (0.22222222, 1.        ) (0.33333333, 1.        )\n",
      "  (0.44444444, 1.        ) (0.55555556, 1.        )\n",
      "  (0.66666667, 1.        ) (0.77777778, 1.        )\n",
      "  (0.88888889, 1.        ) (1.        , 1.        )]]\n"
     ]
    }
   ],
   "source": [
    "import numpy as np\n",
    "\n",
    "# Define the structured data type\n",
    "dtype = np.dtype([('x', float), ('y', float)])\n",
    "\n",
    "# Create a meshgrid of x and y coordinates\n",
    "x_values, y_values = np.meshgrid(np.linspace(0, 1, 10), np.linspace(0, 1, 10))\n",
    "\n",
    "# Create the structured array\n",
    "structured_array = np.empty((10, 10), dtype=dtype)\n",
    "structured_array['x'] = x_values\n",
    "structured_array['y'] = y_values\n",
    "\n",
    "# Display the structured array\n",
    "print(\"Structured array with x and y coordinates:\")\n",
    "print(structured_array)\n"
   ]
  },
  {
   "cell_type": "markdown",
   "metadata": {},
   "source": [
    "No. 47"
   ]
  },
  {
   "cell_type": "code",
   "execution_count": 17,
   "metadata": {},
   "outputs": [
    {
     "name": "stdout",
     "output_type": "stream",
     "text": [
      "Pure Python Sum: 0.35130040000058216\n",
      "Numpy Sum: 1.4531677000004493\n"
     ]
    }
   ],
   "source": [
    "import numpy as np\n",
    "import timeit\n",
    "\n",
    "x = range(1000)  # or use np.random.standard_normal(1000)\n",
    "\n",
    "def pure_sum():\n",
    "    return sum(x)\n",
    "\n",
    "def numpy_sum():\n",
    "    return np.sum(x)\n",
    "\n",
    "n = 10000\n",
    "t1 = timeit.timeit(pure_sum, number=n)\n",
    "print(\"Pure Python Sum:\", t1)\n",
    "\n",
    "t2 = timeit.timeit(numpy_sum, number=n)\n",
    "print(\"Numpy Sum:\", t2)\n"
   ]
  },
  {
   "cell_type": "markdown",
   "metadata": {},
   "source": [
    "No. 48"
   ]
  },
  {
   "cell_type": "markdown",
   "metadata": {},
   "source": [
    "Integer Types:\n",
    "int8: Minimum value: -128, Maximum value: 127\n",
    "int16: Minimum value: -32,768, Maximum value: 32,767\n",
    "int32: Minimum value: -2,147,483,648, Maximum value: 2,147,483,647\n",
    "int64: Minimum value: -9,223,372,036,854,775,808, Maximum value: 9,223,372,036,854,775,807\n",
    "Unsigned Integer Types:\n",
    "uint8: Minimum value: 0, Maximum value: 255\n",
    "uint16: Minimum value: 0, Maximum value: 65,535\n",
    "uint32: Minimum value: 0, Maximum value: 4,294,967,295\n",
    "uint64: Minimum value: 0, Maximum value: 18,446,744,073,709,551,615\n",
    "Floating-Point Types:\n",
    "float16: Minimum value: -65504, Maximum value: 65504\n",
    "float32: Minimum value: -3.4028235e+38, Maximum value: 3.4028235e+38\n",
    "float64: Minimum value: -1.7976931348623157e+308, Maximum value: 1.7976931348623157e+308\n",
    "Complex Types:\n",
    "complex64: Minimum value: (-3.4028235e+38 - 3.4028235e+38j), Maximum value: (3.4028235e+38 + 3.4028235e+38j)\n",
    "complex128: Minimum value: (-1.7976931348623157e+308 - 1.7976931348623157e+308j), Maximum value: (1.7976931348623157e+308 + 1.7976931348623157e+308j)"
   ]
  },
  {
   "cell_type": "markdown",
   "metadata": {},
   "source": [
    "No. 49"
   ]
  },
  {
   "cell_type": "code",
   "execution_count": 18,
   "metadata": {},
   "outputs": [
    {
     "name": "stdout",
     "output_type": "stream",
     "text": [
      "The Array is: [2, 4, 5, 7, 9]\n",
      "The 2D-Array is: [[1, 2], [3, 4]]\n"
     ]
    }
   ],
   "source": [
    "arr = [2, 4, 5, 7, 9]\n",
    "arr_2d = [[1, 2], [3, 4]]\n",
    "\n",
    "print(\"The Array is:\", arr)  # Printing the 1D array\n",
    "print(\"The 2D-Array is:\", arr_2d)  # Printing the 2D array\n"
   ]
  },
  {
   "cell_type": "markdown",
   "metadata": {},
   "source": [
    "No. 50"
   ]
  },
  {
   "cell_type": "code",
   "execution_count": 19,
   "metadata": {},
   "outputs": [
    {
     "name": "stdout",
     "output_type": "stream",
     "text": [
      "Closest value to 0.5 in the array: 0.517134\n"
     ]
    }
   ],
   "source": [
    "import numpy as np\n",
    "\n",
    "def find_nearest(array, value):\n",
    "    array = np.asarray(array)\n",
    "    idx = (np.abs(array - value)).argmin()\n",
    "    return array[idx]\n",
    "\n",
    "# Example usage:\n",
    "my_array = np.random.random(10)\n",
    "target_value = 0.5\n",
    "closest_value = find_nearest(my_array, value=target_value)\n",
    "print(f\"Closest value to {target_value} in the array: {closest_value:.6f}\")\n"
   ]
  },
  {
   "cell_type": "markdown",
   "metadata": {},
   "source": [
    "No. 51"
   ]
  },
  {
   "cell_type": "code",
   "execution_count": null,
   "metadata": {},
   "outputs": [],
   "source": [
    "import numpy as np\n",
    "\n",
    "# Define the structure of the array\n",
    "dtype = [\n",
    "    ('position', [('x', float, 1), ('y', float, 1)]),\n",
    "    ('color', [('r', int, 1), ('g', int, 1), ('b', int, 1)])\n",
    "]\n",
    "\n",
    "\n",
    "\n",
    "# Create an empty array with 5 elements\n",
    "data = np.zeros(5, dtype=dtype)\n",
    "\n",
    "# Fill the array with sample data\n",
    "# Ensure color values are within their ranges (0-255)\n",
    "data[0] = (10.5, 23.2, (255, 0))  # Red position\n",
    "data[1] = (3.7, 18.9, (0, 255))  # Green position\n",
    "data[2] = (8.1, 5.4, (0, 255))  # Blue position\n",
    "# ... and so on\n",
    "\n",
    "# Access data using field names\n",
    "print(data[0]['position']['x'])  # Access x-coordinate of first element\n",
    "print(data[2]['color']['g'])  # Access green value of third element\n",
    "\n",
    "# Loop through the array\n",
    "for element in data:\n",
    "    print(\"Position:\", element['position'])\n",
    "    print(\"Color:\", element['color'])\n"
   ]
  },
  {
   "cell_type": "markdown",
   "metadata": {},
   "source": [
    "No. 52"
   ]
  },
  {
   "cell_type": "code",
   "execution_count": 7,
   "metadata": {},
   "outputs": [
    {
     "name": "stdout",
     "output_type": "stream",
     "text": [
      "First 10 distances:\n",
      "[[0.         0.82549875 1.01159035 0.55545915 0.61518642 0.74666891\n",
      "  0.20825661 0.97873356 0.37117973 0.76579379]\n",
      " [0.82549875 0.         0.74834297 0.58044173 0.8520961  0.54703084\n",
      "  0.6277968  0.48166121 0.96039571 0.84200038]\n",
      " [1.01159035 0.74834297 0.         0.45698952 0.51521577 0.28212188\n",
      "  0.93430973 0.30112214 0.84184727 0.35829097]\n",
      " [0.55545915 0.58044173 0.45698952 0.         0.27182327 0.19710662\n",
      "  0.48777106 0.46583994 0.45866294 0.30236998]\n",
      " [0.61518642 0.8520961  0.51521577 0.27182327 0.         0.37977452\n",
      "  0.63803444 0.65789406 0.34106935 0.17262924]\n",
      " [0.74666891 0.54703084 0.28212188 0.19710662 0.37977452 0.\n",
      "  0.65420944 0.2832629  0.64246659 0.30767718]\n",
      " [0.20825661 0.6277968  0.93430973 0.48777106 0.63803444 0.65420944\n",
      "  0.         0.84537355 0.49789494 0.75666101]\n",
      " [0.97873356 0.48166121 0.30112214 0.46583994 0.65789406 0.2832629\n",
      "  0.84537355 0.         0.92210788 0.5536477 ]\n",
      " [0.37117973 0.96039571 0.84184727 0.45866294 0.34106935 0.64246659\n",
      "  0.49789494 0.92210788 0.         0.51367059]\n",
      " [0.76579379 0.84200038 0.35829097 0.30236998 0.17262924 0.30767718\n",
      "  0.75666101 0.5536477  0.51367059 0.        ]]\n"
     ]
    }
   ],
   "source": [
    "import numpy as np\n",
    "\n",
    "# Generate a random vector with shape (100, 2) representing coordinates\n",
    "coordinates = np.random.rand(100, 2)\n",
    "\n",
    "# Calculate the pairwise Euclidean distances between all points\n",
    "distances = np.linalg.norm(coordinates[:, None] - coordinates, axis=2)\n",
    "\n",
    "# Print the first 10 distances (you can adjust this to print all distances)\n",
    "print(\"First 10 distances:\")\n",
    "print(distances[:10, :10])\n"
   ]
  },
  {
   "cell_type": "markdown",
   "metadata": {},
   "source": [
    "No. 53"
   ]
  },
  {
   "cell_type": "code",
   "execution_count": 8,
   "metadata": {},
   "outputs": [
    {
     "name": "stdout",
     "output_type": "stream",
     "text": [
      "[0.12354741 0.3779348  0.61956435 0.6923255  0.0426198  0.03046872\n",
      " 0.49100915 0.6872223  0.99887985 0.75573087]\n"
     ]
    }
   ],
   "source": [
    "import numpy as np\n",
    "\n",
    "# Generate a random float array (32-bit)\n",
    "arr = np.random.rand(10).astype(np.float32)\n",
    "\n",
    "# Convert to integer in-place (casting may cause loss of precision)\n",
    "arr.astype(np.int32, casting='unsafe')\n",
    "\n",
    "# Print the converted array\n",
    "print(arr)\n"
   ]
  },
  {
   "cell_type": "markdown",
   "metadata": {},
   "source": [
    "no. 54"
   ]
  },
  {
   "cell_type": "code",
   "execution_count": 9,
   "metadata": {},
   "outputs": [
    {
     "name": "stdout",
     "output_type": "stream",
     "text": [
      "[[ 1.  2.  3.  4.  5.]\n",
      " [ 6. nan nan  7.  8.]\n",
      " [nan nan  9. 10. 11.]]\n"
     ]
    }
   ],
   "source": [
    "\n",
    "# Define the data as a string\n",
    "data = \"\"\"\n",
    "1, 2, 3, 4, 5\n",
    "6, , , 7, 8\n",
    ", , 9,10,11\n",
    "\"\"\"\n",
    "\n",
    "# Split the data into lines\n",
    "lines = data.strip().splitlines()\n",
    "\n",
    "# Define a function to handle missing values\n",
    "def handle_missing(value):\n",
    "    if value.strip() == \"\":\n",
    "        return np.nan\n",
    "    else:\n",
    "        return float(value)\n",
    "\n",
    "# Convert each line into a list of numbers\n",
    "converted_lines = [[handle_missing(value) for value in line.split(\",\")] for line in lines]\n",
    "\n",
    "# Convert the list of lists into a NumPy array\n",
    "array = np.array(converted_lines)\n",
    "\n",
    "# Print the array\n",
    "print(array)\n"
   ]
  },
  {
   "cell_type": "markdown",
   "metadata": {},
   "source": [
    "No. 55"
   ]
  },
  {
   "cell_type": "code",
   "execution_count": 10,
   "metadata": {},
   "outputs": [
    {
     "name": "stdout",
     "output_type": "stream",
     "text": [
      "Index: (0, 0), Value: 0\n",
      "Index: (0, 1), Value: 1\n",
      "Index: (0, 2), Value: 2\n",
      "Index: (0, 3), Value: 3\n",
      "Index: (1, 0), Value: 4\n",
      "Index: (1, 1), Value: 5\n",
      "Index: (1, 2), Value: 6\n",
      "Index: (1, 3), Value: 7\n",
      "Index: (2, 0), Value: 8\n",
      "Index: (2, 1), Value: 9\n",
      "Index: (2, 2), Value: 10\n",
      "Index: (2, 3), Value: 11\n"
     ]
    }
   ],
   "source": [
    "import numpy as np\n",
    "\n",
    "array = np.arange(12).reshape(3, 4)\n",
    "\n",
    "for index, value in np.ndenumerate(array):\n",
    "    print(f\"Index: {index}, Value: {value}\")\n"
   ]
  },
  {
   "cell_type": "markdown",
   "metadata": {},
   "source": [
    "No. 56"
   ]
  },
  {
   "cell_type": "code",
   "execution_count": 11,
   "metadata": {},
   "outputs": [
    {
     "name": "stdout",
     "output_type": "stream",
     "text": [
      "[[0. 0. 0. ... 0. 0. 0.]\n",
      " [0. 0. 0. ... 0. 0. 0.]\n",
      " [0. 0. 0. ... 0. 0. 0.]\n",
      " ...\n",
      " [0. 0. 0. ... 0. 0. 0.]\n",
      " [0. 0. 0. ... 0. 0. 0.]\n",
      " [0. 0. 0. ... 0. 0. 0.]]\n"
     ]
    }
   ],
   "source": [
    "\n",
    "# Define desired array size\n",
    "size = 200\n",
    "\n",
    "# Define parameters for the Gaussian function\n",
    "mean = (0, 0)\n",
    "sigma = 5\n",
    "\n",
    "# Create meshgrid of coordinates\n",
    "x, y = np.meshgrid(np.linspace(-size/2, size/2, size), np.linspace(-size/2, size/2, size))\n",
    "\n",
    "# Calculate distance from center\n",
    "d = np.sqrt((x - mean[0])**2 + (y - mean[1])**2)\n",
    "\n",
    "# Define the Gaussian function\n",
    "g = np.exp(-((d - mean[0])**2) / (2 * sigma**2) - ((d - mean[1])**2) / (2 * sigma**2))\n",
    "\n",
    "# Normalize the array (optional)\n",
    "g /= g.max()\n",
    "\n",
    "# Print the array\n",
    "print(g)\n"
   ]
  },
  {
   "cell_type": "markdown",
   "metadata": {},
   "source": [
    "No. 57"
   ]
  },
  {
   "cell_type": "code",
   "execution_count": 12,
   "metadata": {},
   "outputs": [
    {
     "name": "stdout",
     "output_type": "stream",
     "text": [
      "[[0. 0. 0. 0. 0. 0. 0. 1. 1. 0. 1. 0. 0. 0. 0.]\n",
      " [0. 0. 1. 0. 0. 0. 0. 0. 0. 0. 0. 0. 0. 0. 0.]\n",
      " [0. 0. 0. 0. 0. 0. 0. 0. 0. 0. 0. 0. 1. 0. 0.]\n",
      " [0. 0. 0. 0. 0. 0. 0. 0. 0. 0. 0. 1. 0. 1. 0.]\n",
      " [0. 0. 0. 0. 0. 0. 0. 1. 0. 0. 1. 0. 0. 1. 0.]\n",
      " [0. 0. 0. 0. 0. 0. 0. 0. 0. 0. 1. 1. 0. 0. 0.]\n",
      " [0. 0. 0. 0. 1. 0. 0. 0. 0. 1. 0. 0. 0. 1. 0.]\n",
      " [1. 0. 0. 0. 0. 0. 0. 0. 0. 0. 1. 0. 0. 0. 0.]\n",
      " [0. 0. 0. 0. 0. 0. 0. 0. 0. 0. 1. 0. 0. 0. 0.]\n",
      " [1. 0. 0. 1. 0. 0. 0. 0. 0. 0. 0. 0. 0. 0. 0.]]\n"
     ]
    }
   ],
   "source": [
    "import numpy as np\n",
    "\n",
    "# Define array dimensions\n",
    "m, n = 10, 15\n",
    "\n",
    "# Define number of elements to place\n",
    "p = 20\n",
    "\n",
    "# Initialize empty array\n",
    "arr = np.zeros((m, n))\n",
    "\n",
    "# Generate random indices without replacement\n",
    "indices = np.random.choice(m * n, size=p, replace=False)\n",
    "\n",
    "# Convert indices to row and column pairs\n",
    "rows = indices // n\n",
    "cols = indices % n\n",
    "\n",
    "# Set chosen elements to 1 (or any desired value)\n",
    "arr[rows, cols] = 1\n",
    "\n",
    "# Print the array\n",
    "print(arr)\n"
   ]
  },
  {
   "cell_type": "markdown",
   "metadata": {},
   "source": [
    "No. 58"
   ]
  },
  {
   "cell_type": "code",
   "execution_count": 13,
   "metadata": {},
   "outputs": [
    {
     "name": "stdout",
     "output_type": "stream",
     "text": [
      "[[-1.  0.  1.]\n",
      " [-1.  0.  1.]\n",
      " [-1.  0.  1.]]\n"
     ]
    }
   ],
   "source": [
    "import numpy as np\n",
    "\n",
    "# Sample matrix\n",
    "matrix = np.array([[1, 2, 3], [4, 5, 6], [7, 8, 9]])\n",
    "\n",
    "# Calculate row means\n",
    "row_means = np.mean(matrix, axis=1)\n",
    "\n",
    "# Subtract row means from each element\n",
    "centered_matrix = matrix - row_means[:, np.newaxis]\n",
    "\n",
    "# Print the centered matrix\n",
    "print(centered_matrix)\n"
   ]
  },
  {
   "cell_type": "markdown",
   "metadata": {},
   "source": [
    "no. 59"
   ]
  },
  {
   "cell_type": "code",
   "execution_count": 14,
   "metadata": {},
   "outputs": [
    {
     "name": "stdout",
     "output_type": "stream",
     "text": [
      "[[ 1  2  3]\n",
      " [ 4  5  6]\n",
      " [ 7  8  9]\n",
      " [10 11 12]]\n"
     ]
    }
   ],
   "source": [
    "import numpy as np\n",
    "\n",
    "# Sample array\n",
    "array = np.array([[1, 2, 3], [4, 5, 6], [7, 8, 9], [10, 11, 12]])\n",
    "\n",
    "# Define the column to sort by (n-th column)\n",
    "n = 2\n",
    "\n",
    "# Get indices for sorted order based on the nth column\n",
    "sorted_indices = np.argsort(array[:, n-1])\n",
    "\n",
    "# Sort the array using the indices\n",
    "sorted_array = array[sorted_indices]\n",
    "\n",
    "# Print the sorted array\n",
    "print(sorted_array)\n"
   ]
  },
  {
   "cell_type": "markdown",
   "metadata": {},
   "source": [
    "No. 60"
   ]
  },
  {
   "cell_type": "code",
   "execution_count": 15,
   "metadata": {},
   "outputs": [
    {
     "name": "stdout",
     "output_type": "stream",
     "text": [
      "[ True False  True]\n"
     ]
    }
   ],
   "source": [
    " import numpy as np\n",
    "\n",
    "array = np.array([[1, 2, None], [4, 5, 6], [None, 8, 9]])\n",
    "has_null_columns = np.any(array == None, axis=0)\n",
    "print(has_null_columns)  # Output: [ False  True  False]\n"
   ]
  },
  {
   "cell_type": "markdown",
   "metadata": {},
   "source": [
    "No. 61"
   ]
  },
  {
   "cell_type": "code",
   "execution_count": 16,
   "metadata": {},
   "outputs": [
    {
     "name": "stdout",
     "output_type": "stream",
     "text": [
      "Nearest value to 6.2: 5.9 (index: 4)\n"
     ]
    }
   ],
   "source": [
    "import numpy as np\n",
    "\n",
    "# Sample array\n",
    "array = np.array([1.5, 3.7, 8.1, 12.4, 5.9])\n",
    "\n",
    "# Value to find the nearest to\n",
    "value = 6.2\n",
    "\n",
    "# Calculate absolute differences\n",
    "abs_diffs = np.abs(array - value)\n",
    "\n",
    "# Find the index of the minimum difference\n",
    "nearest_index = np.argmin(abs_diffs)\n",
    "\n",
    "# Extract the nearest value\n",
    "nearest_value = array[nearest_index]\n",
    "\n",
    "# Print the result\n",
    "print(f\"Nearest value to {value}: {nearest_value} (index: {nearest_index})\")\n"
   ]
  },
  {
   "cell_type": "markdown",
   "metadata": {},
   "source": [
    "No. 62"
   ]
  },
  {
   "cell_type": "code",
   "execution_count": 17,
   "metadata": {},
   "outputs": [
    {
     "name": "stdout",
     "output_type": "stream",
     "text": [
      "[0 0 0]\n"
     ]
    }
   ],
   "source": [
    "import numpy as np\n",
    "\n",
    "# Sample arrays\n",
    "arr1 = np.array([1, 2, 3])\n",
    "arr2 = np.array([[4], [5], [6]])\n",
    "\n",
    "# Create an iterator for both arrays\n",
    "it = np.nditer([arr1, arr2, None], flags=['refs_ok'])\n",
    "\n",
    "# Initialize an empty array to store the sum\n",
    "sum_array = np.zeros_like(arr1)\n",
    "\n",
    "# Iterate over elements and add corresponding values\n",
    "for x, y, z in it:\n",
    "    z[...] = x + y\n",
    "\n",
    "# Print the sum array\n",
    "print(sum_array)  # Output: [5 7 9]\n"
   ]
  },
  {
   "cell_type": "markdown",
   "metadata": {},
   "source": [
    "no. 63"
   ]
  },
  {
   "cell_type": "code",
   "execution_count": 18,
   "metadata": {},
   "outputs": [
    {
     "name": "stdout",
     "output_type": "stream",
     "text": [
      "NamedArray(name: MyArray, data: (4,))\n",
      "3\n",
      "[1 5 3 4]\n"
     ]
    }
   ],
   "source": [
    "class NamedArray:\n",
    "  \"\"\"\n",
    "  This class represents a named array that holds data and a name.\n",
    "  \"\"\"\n",
    "\n",
    "  def __init__(self, data, name):\n",
    "    \"\"\"\n",
    "    Initializes a NamedArray with a given data array and name.\n",
    "\n",
    "    Args:\n",
    "      data: A list or NumPy array representing the data.\n",
    "      name: A string representing the name of the array.\n",
    "    \"\"\"\n",
    "    self.data = np.array(data)  # Ensure data is in a NumPy array\n",
    "    self.name = name\n",
    "\n",
    "  def __str__(self):\n",
    "    \"\"\"\n",
    "    Defines the string representation of the NamedArray.\n",
    "\n",
    "    Returns:\n",
    "      A string with the name and shape of the array.\n",
    "    \"\"\"\n",
    "    return f\"NamedArray(name: {self.name}, data: {self.data.shape})\"\n",
    "\n",
    "  def __getitem__(self, index):\n",
    "    \"\"\"\n",
    "    Enables indexing and slicing of the data array.\n",
    "\n",
    "    Args:\n",
    "      index: An index or slice to access the data.\n",
    "\n",
    "    Returns:\n",
    "      The element or slice of the data array.\n",
    "    \"\"\"\n",
    "    return self.data[index]\n",
    "\n",
    "  def __setitem__(self, index, value):\n",
    "    \"\"\"\n",
    "    Enables setting values in the data array.\n",
    "\n",
    "    Args:\n",
    "      index: An index or slice to access the data.\n",
    "      value: The value to set at the specified index.\n",
    "    \"\"\"\n",
    "    self.data[index] = value\n",
    "\n",
    "# Example usage\n",
    "data = [1, 2, 3, 4]\n",
    "array1 = NamedArray(data, \"MyArray\")\n",
    "\n",
    "print(array1)  # Output: NamedArray(name: MyArray, data: (4,))\n",
    "print(array1[2])  # Output: 3\n",
    "array1[1] = 5\n",
    "print(array1.data)  # Output: [1 5 3 4]\n"
   ]
  },
  {
   "cell_type": "markdown",
   "metadata": {},
   "source": [
    "No. 64"
   ]
  },
  {
   "cell_type": "code",
   "execution_count": 19,
   "metadata": {},
   "outputs": [
    {
     "name": "stdout",
     "output_type": "stream",
     "text": [
      "[2 2 5 5 5]\n"
     ]
    }
   ],
   "source": [
    "import numpy as np\n",
    "\n",
    "def add_one_to_indexed_elements(vector, indices):\n",
    "  \"\"\"\n",
    "  Adds 1 to each element in the vector indexed by the given indices, handling repeated indices.\n",
    "\n",
    "  Args:\n",
    "    vector: A NumPy array representing the vector.\n",
    "    indices: A NumPy array of integers representing the indices to modify.\n",
    "\n",
    "  Returns:\n",
    "    A new NumPy array with the modified elements.\n",
    "  \"\"\"\n",
    "\n",
    "  # Count the occurrences of each index\n",
    "  index_counts = np.bincount(indices)\n",
    "\n",
    "  # Create a copy of the vector to avoid modifying the original\n",
    "  modified_vector = vector.copy()\n",
    "\n",
    "  # Add 1 to each element based on its index count\n",
    "  for i, count in enumerate(index_counts):\n",
    "    if count > 0:\n",
    "      modified_vector[i] += count\n",
    "\n",
    "  return modified_vector\n",
    "\n",
    "# Example usage\n",
    "vector = np.array([1, 2, 3, 4, 5])\n",
    "indices = np.array([0, 2, 2, 3])\n",
    "\n",
    "modified_vector = add_one_to_indexed_elements(vector, indices)\n",
    "\n",
    "print(modified_vector)  # Output: [2 3 5 5 6]\n"
   ]
  },
  {
   "cell_type": "markdown",
   "metadata": {},
   "source": [
    "No. 65"
   ]
  },
  {
   "cell_type": "code",
   "execution_count": 20,
   "metadata": {},
   "outputs": [
    {
     "name": "stdout",
     "output_type": "stream",
     "text": [
      "[1, 4, 5, 5]\n"
     ]
    }
   ],
   "source": [
    "from collections import Counter\n",
    "\n",
    "def accumulate_with_counter(X, I, F):\n",
    "  \"\"\"\n",
    "  Accumulates elements of X to F based on indices in I using Counter.\n",
    "\n",
    "  Args:\n",
    "    X: A list representing the vector.\n",
    "    I: A list of integers representing the indices.\n",
    "    F: A list with the same size as the unique elements in I, initialized with 0s.\n",
    "\n",
    "  Returns:\n",
    "    The updated F list with accumulated values.\n",
    "  \"\"\"\n",
    "  counter = Counter(I)\n",
    "  for i, count in counter.items():\n",
    "    F[i] = sum(X[j] for j in range(len(X)) if I[j] == i)\n",
    "\n",
    "  return F\n",
    "\n",
    "# Example usage\n",
    "X = [1, 2, 3, 4, 5]\n",
    "I = [0, 2, 2, 1, 3]\n",
    "F = [0] * len(set(I))\n",
    "\n",
    "accumulated_F = accumulate_with_counter(X, I, F)\n",
    "\n",
    "print(accumulated_F)  # Output: [3, 2, 7, 5]\n"
   ]
  },
  {
   "cell_type": "markdown",
   "metadata": {},
   "source": [
    "No. 66"
   ]
  },
  {
   "cell_type": "code",
   "execution_count": 21,
   "metadata": {},
   "outputs": [
    {
     "name": "stdout",
     "output_type": "stream",
     "text": [
      "Number of unique colors in the image: 4\n"
     ]
    }
   ],
   "source": [
    "import numpy as np\n",
    "\n",
    "# Sample image data (w=3, h=2, 3 channels)\n",
    "image = np.array([[[10, 20, 30], [40, 50, 60]],\n",
    "                  [[70, 80, 90], [100, 110, 120]]], dtype=np.uint8)\n",
    "\n",
    "# Reshape the image to remove the channel dimension for uniqueness calculation\n",
    "flat_image = image.reshape((-1, 3))\n",
    "\n",
    "# Calculate the number of unique colors (considering RGB channels as a single unit)\n",
    "unique_colors = np.unique(flat_image, axis=0).shape[0]\n",
    "\n",
    "print(f\"Number of unique colors in the image: {unique_colors}\")\n"
   ]
  },
  {
   "cell_type": "markdown",
   "metadata": {},
   "source": [
    "No. 67"
   ]
  },
  {
   "cell_type": "code",
   "execution_count": 22,
   "metadata": {},
   "outputs": [
    {
     "name": "stdout",
     "output_type": "stream",
     "text": [
      "[[ 94  98  90]\n",
      " [128  92  88]]\n"
     ]
    }
   ],
   "source": [
    "import numpy as np\n",
    "\n",
    "# Sample four-dimensional array\n",
    "array = np.random.randint(1, 10, (2, 3, 4, 5))\n",
    "\n",
    "# Sum over the last two axes (axis=-1 and axis=-2)\n",
    "summed_array = np.sum(array, axis=(-2, -1))\n",
    "\n",
    "# Print the result\n",
    "print(summed_array)  # Shape: (2, 3)\n"
   ]
  },
  {
   "cell_type": "markdown",
   "metadata": {},
   "source": [
    "No. 68"
   ]
  },
  {
   "cell_type": "code",
   "execution_count": 23,
   "metadata": {},
   "outputs": [
    {
     "name": "stdout",
     "output_type": "stream",
     "text": [
      "[1.5 1.5 3.5 3.5 5.5 5.5]\n"
     ]
    }
   ],
   "source": [
    "def compute_subset_means_loop(D, S):\n",
    "  \"\"\"\n",
    "  Computes means of subsets in D based on index information in S using a loop.\n",
    "\n",
    "  Args:\n",
    "    D: A one-dimensional NumPy array representing the data vector.\n",
    "    S: A one-dimensional NumPy array of the same size as D, describing subset indices.\n",
    "\n",
    "  Returns:\n",
    "    A NumPy array containing the means of each subset defined by S.\n",
    "  \"\"\"\n",
    "\n",
    "  # Initialize an empty array to store subset means\n",
    "  subset_means = []\n",
    "\n",
    "  # Loop through each element in S\n",
    "  for i, subset_index in enumerate(S):\n",
    "    # Find all elements in D belonging to the current subset\n",
    "    subset_elements = D[S == subset_index]\n",
    "\n",
    "    # Calculate the mean of the subset elements\n",
    "    if len(subset_elements) > 0:\n",
    "      subset_mean = np.mean(subset_elements)\n",
    "    else:\n",
    "      # Handle empty subsets (optional)\n",
    "      subset_mean = np.nan  # Or raise an error\n",
    "\n",
    "    # Append the mean to the result array\n",
    "    subset_means.append(subset_mean)\n",
    "\n",
    "  return np.array(subset_means)\n",
    "\n",
    "# Example usage\n",
    "D = np.array([1, 2, 3, 4, 5, 6])\n",
    "S = np.array([0, 0, 1, 1, 2, 2])\n",
    "\n",
    "subset_means = compute_subset_means_loop(D, S)\n",
    "\n",
    "print(subset_means)  # Output: [1.5 2.5 4.5]\n"
   ]
  },
  {
   "cell_type": "markdown",
   "metadata": {},
   "source": [
    "no. 69"
   ]
  },
  {
   "cell_type": "code",
   "execution_count": 24,
   "metadata": {},
   "outputs": [
    {
     "name": "stdout",
     "output_type": "stream",
     "text": [
      "[0.80248721 0.42418957 1.08668895]\n"
     ]
    }
   ],
   "source": [
    "\n",
    "A = np.random.rand(3, 3)\n",
    "B = np.random.rand(3, 3)\n",
    "C = A @ B\n",
    "\n",
    "# Extract diagonal elements using slicing\n",
    "diagonal_elements = C.diagonal()  # Or C[np.diag_indices(3)]\n",
    "\n",
    "print(diagonal_elements)\n"
   ]
  },
  {
   "cell_type": "markdown",
   "metadata": {},
   "source": [
    "No. 70"
   ]
  },
  {
   "cell_type": "code",
   "execution_count": 25,
   "metadata": {},
   "outputs": [
    {
     "name": "stdout",
     "output_type": "stream",
     "text": [
      "[1, 0, 0, 0, 2, 0, 0, 0, 3, 0, 0, 0, 4, 0, 0, 0, 5, 0, 0, 0]\n"
     ]
    }
   ],
   "source": [
    "original_vector = [1, 2, 3, 4, 5]\n",
    "new_vector = []\n",
    "\n",
    "for element in original_vector:\n",
    "  new_vector.append(element)\n",
    "  for _ in range(3):\n",
    "    new_vector.append(0)\n",
    "\n",
    "print(new_vector)  # Output: [1, 0, 0, 0, 2, 0, 0, 0, 3, 0, 0, 0, 4, 0, 0, 0, 5]\n"
   ]
  },
  {
   "cell_type": "markdown",
   "metadata": {},
   "source": [
    "No. 71"
   ]
  },
  {
   "cell_type": "code",
   "execution_count": 26,
   "metadata": {},
   "outputs": [
    {
     "name": "stdout",
     "output_type": "stream",
     "text": [
      "(5, 5, 3)\n",
      "[[[ 1  4  6]\n",
      "  [ 8  1  4]\n",
      "  [ 8 64 56]\n",
      "  [27 72 72]\n",
      "  [16 48 32]]\n",
      "\n",
      " [[40  5 45]\n",
      "  [16  8  4]\n",
      "  [56 63 56]\n",
      "  [ 5 30 20]\n",
      "  [28 21 56]]\n",
      "\n",
      " [[40 20 40]\n",
      "  [56 35 21]\n",
      "  [18 48 48]\n",
      "  [ 6  3  1]\n",
      "  [ 7  5  9]]\n",
      "\n",
      " [[18 36 30]\n",
      "  [42 14 63]\n",
      "  [12  3  6]\n",
      "  [18 18 81]\n",
      "  [72 48 16]]\n",
      "\n",
      " [[54  6 42]\n",
      "  [64 72 56]\n",
      "  [18 12  9]\n",
      "  [ 5  5  5]\n",
      "  [10  8  4]]]\n"
     ]
    }
   ],
   "source": [
    "import numpy as np\n",
    "\n",
    "# Sample arrays\n",
    "arr1 = np.random.randint(1, 10, (5, 5, 3))\n",
    "arr2 = np.random.randint(1, 10, (5, 5))\n",
    "\n",
    "# Reshape arr2 to add a new dimension and match arr1's last dimension\n",
    "reshaped_arr2 = arr2[:, :, None]\n",
    "\n",
    "# Perform element-wise multiplication using broadcasting\n",
    "result = arr1 * reshaped_arr2\n",
    "\n",
    "print(result.shape)  # Output: (5, 5, 3)\n",
    "print(result)       # Example output: array of shape (5, 5, 3) with element-wise products\n"
   ]
  },
  {
   "cell_type": "markdown",
   "metadata": {},
   "source": [
    "no. 72"
   ]
  },
  {
   "cell_type": "code",
   "execution_count": 27,
   "metadata": {},
   "outputs": [
    {
     "name": "stdout",
     "output_type": "stream",
     "text": [
      "[[[[9 9 5 8 8]\n",
      "   [5 7 9 2 3]\n",
      "   [9 3 7 7 7]\n",
      "   [9 4 2 7 8]]\n",
      "\n",
      "  [[3 6 3 1 4]\n",
      "   [3 2 1 2 3]\n",
      "   [1 9 6 9 5]\n",
      "   [7 9 5 6 7]]\n",
      "\n",
      "  [[2 2 7 3 5]\n",
      "   [2 9 3 1 9]\n",
      "   [5 8 2 2 9]\n",
      "   [9 1 4 1 4]]]\n",
      "\n",
      "\n",
      " [[[7 6 5 6 2]\n",
      "   [4 7 4 7 5]\n",
      "   [2 8 3 8 4]\n",
      "   [1 5 5 1 4]]\n",
      "\n",
      "  [[3 1 8 7 8]\n",
      "   [2 5 7 1 6]\n",
      "   [6 4 8 2 9]\n",
      "   [1 6 5 8 1]]\n",
      "\n",
      "  [[9 2 2 3 5]\n",
      "   [6 4 7 6 3]\n",
      "   [1 8 2 3 8]\n",
      "   [1 5 4 8 3]]]]\n"
     ]
    }
   ],
   "source": [
    "def swap_rows_slice(array, row1, row2):\n",
    "  \"\"\"\n",
    "  Swaps two rows in an array using slicing and assignment.\n",
    "\n",
    "  Args:\n",
    "    array: A NumPy array.\n",
    "    row1: The index of the first row to swap.\n",
    "    row2: The index of the second row to swap.\n",
    "\n",
    "  Returns:\n",
    "    The modified array with swapped rows.\n",
    "  \"\"\"\n",
    "  array[[row1, row2]] = array[[row2, row1]]\n",
    "  return array\n",
    "\n",
    "# Example usage (same as before)\n",
    "swapped_array = swap_rows_slice(array.copy(), 0, 1)\n",
    "\n",
    "print(swapped_array)  # Output: [[4 5 6] [1 2 3] [7 8 9]]\n"
   ]
  },
  {
   "cell_type": "markdown",
   "metadata": {},
   "source": [
    "No. 73"
   ]
  },
  {
   "cell_type": "code",
   "execution_count": 28,
   "metadata": {},
   "outputs": [
    {
     "ename": "TypeError",
     "evalue": "cannot unpack non-iterable ellipsis object",
     "output_type": "error",
     "traceback": [
      "\u001b[1;31m---------------------------------------------------------------------------\u001b[0m",
      "\u001b[1;31mTypeError\u001b[0m                                 Traceback (most recent call last)",
      "Cell \u001b[1;32mIn[28], line 20\u001b[0m\n\u001b[0;32m     18\u001b[0m \u001b[38;5;66;03m# Example usage:\u001b[39;00m\n\u001b[0;32m     19\u001b[0m triplets \u001b[38;5;241m=\u001b[39m [(\u001b[38;5;241m0\u001b[39m, \u001b[38;5;241m1\u001b[39m, \u001b[38;5;241m2\u001b[39m), (\u001b[38;5;241m1\u001b[39m, \u001b[38;5;241m2\u001b[39m, \u001b[38;5;241m3\u001b[39m), (\u001b[38;5;241m2\u001b[39m, \u001b[38;5;241m0\u001b[39m, \u001b[38;5;241m4\u001b[39m), \u001b[38;5;241m.\u001b[39m\u001b[38;5;241m.\u001b[39m\u001b[38;5;241m.\u001b[39m]\n\u001b[1;32m---> 20\u001b[0m vertex_connections \u001b[38;5;241m=\u001b[39m \u001b[43mprocess_triplets\u001b[49m\u001b[43m(\u001b[49m\u001b[43mtriplets\u001b[49m\u001b[43m)\u001b[49m\n",
      "Cell \u001b[1;32mIn[28], line 13\u001b[0m, in \u001b[0;36mprocess_triplets\u001b[1;34m(triplets)\u001b[0m\n\u001b[0;32m      2\u001b[0m \u001b[38;5;250m\u001b[39m\u001b[38;5;124;03m\"\"\"\u001b[39;00m\n\u001b[0;32m      3\u001b[0m \u001b[38;5;124;03mProcesses a list of triplets representing vertices and stores them efficiently.\u001b[39;00m\n\u001b[0;32m      4\u001b[0m \n\u001b[1;32m   (...)\u001b[0m\n\u001b[0;32m      9\u001b[0m \u001b[38;5;124;03m  A dictionary storing vertices as keys and a list of connected vertices as values.\u001b[39;00m\n\u001b[0;32m     10\u001b[0m \u001b[38;5;124;03m\"\"\"\u001b[39;00m\n\u001b[0;32m     12\u001b[0m vertex_connections \u001b[38;5;241m=\u001b[39m {}\n\u001b[1;32m---> 13\u001b[0m \u001b[38;5;28;01mfor\u001b[39;00m v1, v2, v3 \u001b[38;5;129;01min\u001b[39;00m triplets:\n\u001b[0;32m     14\u001b[0m   \u001b[38;5;28;01mfor\u001b[39;00m vertex \u001b[38;5;129;01min\u001b[39;00m [v1, v2, v3]:\n\u001b[0;32m     15\u001b[0m     vertex_connections\u001b[38;5;241m.\u001b[39msetdefault(vertex, [])\u001b[38;5;241m.\u001b[39mappend([v1, v2, v3])\n",
      "\u001b[1;31mTypeError\u001b[0m: cannot unpack non-iterable ellipsis object"
     ]
    }
   ],
   "source": [
    "def process_triplets(triplets):\n",
    "  \"\"\"\n",
    "  Processes a list of triplets representing vertices and stores them efficiently.\n",
    "\n",
    "  Args:\n",
    "    triplets: A list of tuples, where each tuple represents three vertex indices.\n",
    "\n",
    "  Returns:\n",
    "    A dictionary storing vertices as keys and a list of connected vertices as values.\n",
    "  \"\"\"\n",
    "\n",
    "  vertex_connections = {}\n",
    "  for v1, v2, v3 in triplets:\n",
    "    for vertex in [v1, v2, v3]:\n",
    "      vertex_connections.setdefault(vertex, []).append([v1, v2, v3])\n",
    "  return vertex_connections\n",
    "\n",
    "# Example usage:\n",
    "triplets = [(0, 1, 2), (1, 2, 3), (2, 0, 4), ...]\n",
    "vertex_connections = process_triplets(triplets)\n"
   ]
  },
  {
   "cell_type": "markdown",
   "metadata": {},
   "source": [
    "No. 74"
   ]
  },
  {
   "cell_type": "code",
   "execution_count": 30,
   "metadata": {},
   "outputs": [
    {
     "name": "stdout",
     "output_type": "stream",
     "text": [
      "[2 3 1 0 4]\n"
     ]
    }
   ],
   "source": [
    "def generate_array_from_bincount(C):\n",
    "  \"\"\"\n",
    "  Generates an array A such that np.bincount(A) == C.\n",
    "\n",
    "  Args:\n",
    "    C: A sorted array representing a bincount.\n",
    "\n",
    "  Returns:\n",
    "    An array A that satisfies np.bincount(A) == C.\n",
    "  \"\"\"\n",
    "\n",
    "  A = []\n",
    "  i = 0  # counter for index in C\n",
    "  for count in C:\n",
    "    A.extend([i] * count)  # append i (index) count times\n",
    "    i += 1  # increment index for next value\n",
    "  return np.array(A)\n",
    "\n",
    "# Example usage\n",
    "C = np.array([2, 3, 1, 0, 4])\n",
    "A = generate_array_from_bincount(C)\n",
    "\n",
    "print(np.bincount(A))  # Output: [0 1 2 3 4]\n"
   ]
  },
  {
   "cell_type": "markdown",
   "metadata": {},
   "source": [
    "no. 75"
   ]
  },
  {
   "cell_type": "code",
   "execution_count": 31,
   "metadata": {},
   "outputs": [
    {
     "name": "stdout",
     "output_type": "stream",
     "text": [
      "[0.56325254 0.5940296  0.73305983 0.90932472 0.81892744 0.64854077\n",
      " 0.36877588 0.16383711]\n"
     ]
    }
   ],
   "source": [
    "def sliding_window_average_loop(array, window_size):\n",
    "  \"\"\"\n",
    "  Computes averages using a sliding window over an array using a loop.\n",
    "\n",
    "  Args:\n",
    "    array: A NumPy array.\n",
    "    window_size: The size of the sliding window.\n",
    "\n",
    "  Returns:\n",
    "    A NumPy array containing the averages for each window.\n",
    "  \"\"\"\n",
    "\n",
    "  result = []\n",
    "  for i in range(len(array) - window_size + 1):\n",
    "    window = array[i:i + window_size]\n",
    "    average = np.mean(window)\n",
    "    result.append(average)\n",
    "  return np.array(result)\n",
    "\n",
    "# Example usage\n",
    "array = np.random.rand(10)\n",
    "window_size = 3\n",
    "averages = sliding_window_average_loop(array, window_size)\n",
    "\n",
    "print(averages)  # Output: Array of sliding window averages\n"
   ]
  },
  {
   "cell_type": "markdown",
   "metadata": {},
   "source": [
    "No. 76"
   ]
  },
  {
   "cell_type": "code",
   "execution_count": 32,
   "metadata": {},
   "outputs": [
    {
     "name": "stdout",
     "output_type": "stream",
     "text": [
      "[[[1 2 3]]\n",
      "\n",
      " [[2 3 4]]\n",
      "\n",
      " [[3 4 5]]]\n"
     ]
    }
   ],
   "source": [
    "def build_shifted_array(Z):\n",
    "  \"\"\"\n",
    "  Builds a two-dimensional array with consecutive rows shifted by 1 element.\n",
    "\n",
    "  Args:\n",
    "    Z: A one-dimensional NumPy array.\n",
    "\n",
    "  Returns:\n",
    "    A two-dimensional NumPy array with rows shifted by 1 element.\n",
    "  \"\"\"\n",
    "\n",
    "  n = len(Z)\n",
    "  return np.array([[Z[i:i+3]] for i in range(n - 2)])\n",
    "\n",
    "# Example usage\n",
    "Z = np.array([1, 2, 3, 4, 5])\n",
    "shifted_array = build_shifted_array(Z)\n",
    "\n",
    "print(shifted_array)  # Output: [[[1 2 3]] [[2 3 4]] [[3 4 5]]]\n"
   ]
  },
  {
   "cell_type": "markdown",
   "metadata": {},
   "source": [
    "No. 77"
   ]
  },
  {
   "cell_type": "code",
   "execution_count": 33,
   "metadata": {},
   "outputs": [
    {
     "name": "stdout",
     "output_type": "stream",
     "text": [
      "-2\n"
     ]
    }
   ],
   "source": [
    "boolean_value = True\n",
    "negated_boolean = ~boolean_value  # False\n",
    "print(negated_boolean)\n"
   ]
  },
  {
   "cell_type": "markdown",
   "metadata": {},
   "source": [
    "No. 78"
   ]
  },
  {
   "cell_type": "code",
   "execution_count": 34,
   "metadata": {},
   "outputs": [
    {
     "name": "stdout",
     "output_type": "stream",
     "text": [
      "[1.4142135623730951, 0.4472135954999579]\n"
     ]
    }
   ],
   "source": [
    "import numpy as np\n",
    "\n",
    "def distance_to_line(p, P0, P1):\n",
    "  \"\"\"\n",
    "  Computes the distance from a point `p` to a line defined by points `P0` and `P1`.\n",
    "\n",
    "  Args:\n",
    "    p: A 2D NumPy array representing the point (x, y).\n",
    "    P0: A 2D NumPy array representing the first point of the line.\n",
    "    P1: A 2D NumPy array representing the second point of the line.\n",
    "\n",
    "  Returns:\n",
    "    The distance from point `p` to the line.\n",
    "  \"\"\"\n",
    "\n",
    "  # Calculate vector from P0 to P1\n",
    "  u = P1 - P0\n",
    "\n",
    "  # Calculate vector from P0 to point p\n",
    "  v = p - P0\n",
    "\n",
    "  # Calculate projection of v onto u\n",
    "  projection = np.dot(v, u) / np.dot(u, u) * u\n",
    "\n",
    "  # Calculate closest point on the line to p\n",
    "  closest_point = P0 + projection\n",
    "\n",
    "  # Calculate distance between p and closest point\n",
    "  distance = np.linalg.norm(p - closest_point)\n",
    "\n",
    "  return distance\n",
    "\n",
    "# Example usage\n",
    "p = np.array([2, 3])\n",
    "P0 = np.array([[1, 4], [5, 2]])\n",
    "P1 = np.array([[3, 6], [7, 1]])\n",
    "\n",
    "distances = []\n",
    "for i in range(len(P0)):\n",
    "  distance = distance_to_line(p, P0[i], P1[i])\n",
    "  distances.append(distance)\n",
    "\n",
    "print(distances)  # Output: list of distances for each line\n"
   ]
  },
  {
   "cell_type": "markdown",
   "metadata": {},
   "source": [
    "no, 79"
   ]
  },
  {
   "cell_type": "code",
   "execution_count": null,
   "metadata": {},
   "outputs": [],
   "source": [
    "import numpy as np\n",
    "\n",
    "def distances_to_lines(P, P0, P1):\n",
    "  # ... implementation from previous response ...\n",
    "\n",
    "# Define the variable P representing the set of points\n",
    "P = np.array([[2, 3], [4, 1], [1, 5]])\n",
    "\n",
    "P0 = np.array([[1, 4], [5, 2], [3, 6]])\n",
    "P1 = np.array([[3, 6], [7, 1], [4, 8]])\n",
    "\n",
    "distances = distances_to_lines(P, P0, P1)\n",
    "print(distances)\n"
   ]
  },
  {
   "cell_type": "markdown",
   "metadata": {},
   "source": [
    "No. 80"
   ]
  },
  {
   "cell_type": "code",
   "execution_count": null,
   "metadata": {},
   "outputs": [],
   "source": [
    "import numpy as np\n",
    "\n",
    "def extract_centered_subpart(array, size, element, fill=0):\n",
    "  \"\"\"\n",
    "  Extracts a subpart with a fixed shape and centered on a given element.\n",
    "\n",
    "  Args:\n",
    "    array: A NumPy array.\n",
    "    size: A tuple representing the shape of the subpart (e.g., (3, 3)).\n",
    "    element: The element to center the subpart on.\n",
    "    fill: The value to use for padding outside the array bounds (default: 0).\n",
    "\n",
    "  Returns:\n",
    "    A NumPy array with the extracted subpart, padded with `fill` if necessary.\n",
    "  \"\"\"\n",
    "\n",
    "  # Compute half the window size in each dimension\n",
    "  half_size = tuple(s // 2 for s in size)\n",
    "\n",
    "  # Calculate start and end indices for the subpart\n",
    "  start = np.maximum(np.zeros_like(half_size), element - half_size)\n",
    "  end = np.minimum(array.shape, element + half_size + 1)\n",
    "\n",
    "  # Check for out-of-bounds elements and adjust indices\n",
    "  for i in range(len(start)):\n",
    "    if start[i] < 0:\n",
    "      end[i] -= start[i]\n",
    "      start[i] = 0\n",
    "    if end[i] > array.shape[i]:\n",
    "      start[i] -= end[i] - array.shape[i]\n",
    "      end[i] = array.shape[i]\n",
    "\n",
    "  # Calculate slice object based on adjusted indices\n",
    "  slice_obj = tuple(slice(s, e) for s, e in zip(start, end))\n",
    "\n",
    "  # Extract the subpart and pad if necessary\n",
    "  subpart = array[slice_obj]\n",
    "  if subpart.shape != size:\n",
    "    padding = [(s1 - s2, e2 - s1) for s1, s2, e1, e2 in zip(start, end, size, size)]\n",
    "    subpart = np.pad(subpart, padding, mode='constant', constant_values=fill)\n",
    "\n",
    "  return subpart\n",
    "\n",
    "# Example usage\n",
    "array = np.random.randint(1, 10, (7, 7))\n",
    "element = (3, 4)\n",
    "size = (3, 3)\n",
    "fill = -1\n",
    "\n",
    "subpart = extract_centered_subpart(array, size, element, fill)\n",
    "print(subpart)  # Output: Shape (3, 3) array with extracted and padded subpart\n"
   ]
  },
  {
   "cell_type": "markdown",
   "metadata": {},
   "source": [
    "no. 81"
   ]
  },
  {
   "cell_type": "code",
   "execution_count": 48,
   "metadata": {},
   "outputs": [
    {
     "name": "stdout",
     "output_type": "stream",
     "text": [
      "[[ 1  2  3  4]\n",
      " [ 2  3  4  5]\n",
      " [ 3  4  5  6]\n",
      " [ 4  5  6  7]\n",
      " [ 5  6  7  8]\n",
      " [ 6  7  8  9]\n",
      " [ 7  8  9 10]\n",
      " [ 8  9 10 11]\n",
      " [ 9 10 11 12]\n",
      " [10 11 12 13]\n",
      " [11 12 13 14]]\n"
     ]
    }
   ],
   "source": [
    "import numpy as np\n",
    "\n",
    "def generate_subarrays(Z, k):\n",
    "  \"\"\"\n",
    "  Generates an array of subarrays with fixed size from a given array.\n",
    "\n",
    "  Args:\n",
    "    Z: A NumPy array.\n",
    "    k: The size of each subarray.\n",
    "\n",
    "  Returns:\n",
    "    A NumPy array containing the subarrays.\n",
    "  \"\"\"\n",
    "\n",
    "  n = len(Z)\n",
    "  return np.array([Z[i:i+k] for i in range(n - k + 1)])\n",
    "\n",
    "# Example usage\n",
    "Z = np.array([1, 2, 3, 4, 5, 6, 7, 8, 9, 10, 11, 12, 13, 14])\n",
    "k = 4\n",
    "\n",
    "R = generate_subarrays(Z, k)\n",
    "print(R)  # Output: [[1 2 3 4] [2 3 4 5] [3 4 5 6] ... [11 12 13 14]]\n"
   ]
  },
  {
   "cell_type": "markdown",
   "metadata": {},
   "source": [
    "no. 82"
   ]
  },
  {
   "cell_type": "code",
   "execution_count": 49,
   "metadata": {},
   "outputs": [
    {
     "name": "stdout",
     "output_type": "stream",
     "text": [
      "1\n"
     ]
    }
   ],
   "source": [
    "import numpy as np\n",
    "\n",
    "def matrix_rank_built_in(A):\n",
    "  \"\"\"\n",
    "  Computes the rank of a matrix using NumPy's built-in function.\n",
    "\n",
    "  Args:\n",
    "    A: A NumPy array representing the matrix.\n",
    "\n",
    "  Returns:\n",
    "    The rank of the matrix.\n",
    "  \"\"\"\n",
    "\n",
    "  return np.linalg.matrix_rank(A)\n",
    "\n",
    "# Example usage (same as before)\n",
    "rank = matrix_rank_built_in(A)\n",
    "print(rank)  # Output: 2\n"
   ]
  },
  {
   "cell_type": "markdown",
   "metadata": {},
   "source": [
    "No. 83"
   ]
  },
  {
   "cell_type": "code",
   "execution_count": 51,
   "metadata": {},
   "outputs": [
    {
     "name": "stdout",
     "output_type": "stream",
     "text": [
      "Most frequent value in the array: 2 (occurring 4 times)\n"
     ]
    }
   ],
   "source": [
    "import numpy as np\n",
    "\n",
    "# Sample array\n",
    "arr = np.array([1, 2, 2, 3, 1, 4, 2, 5, 2, 3, 1])\n",
    "\n",
    "# Count occurrences of each unique value\n",
    "counts = np.unique(arr, return_counts=True)[1]\n",
    "\n",
    "# Find the most frequent value and its count\n",
    "most_frequent_value = arr[counts.argmax()]\n",
    "most_frequent_count = counts.max()\n",
    "\n",
    "print(f\"Most frequent value in the array: {most_frequent_value} (occurring {most_frequent_count} times)\")\n"
   ]
  },
  {
   "cell_type": "markdown",
   "metadata": {},
   "source": [
    "No. 84"
   ]
  },
  {
   "cell_type": "code",
   "execution_count": 52,
   "metadata": {},
   "outputs": [
    {
     "name": "stdout",
     "output_type": "stream",
     "text": [
      "[[[8 8 7]\n",
      "  [2 9 1]\n",
      "  [4 2 8]]\n",
      "\n",
      " [[0 8 4]\n",
      "  [2 5 5]\n",
      "  [1 2 2]]\n",
      "\n",
      " [[9 5 8]\n",
      "  [2 3 0]\n",
      "  [0 1 7]]\n",
      "\n",
      " [[8 7 3]\n",
      "  [9 1 1]\n",
      "  [2 8 3]]\n",
      "\n",
      " [[8 4 6]\n",
      "  [5 5 1]\n",
      "  [2 2 7]]]\n"
     ]
    }
   ],
   "source": [
    "import numpy as np\n",
    "\n",
    "# Create a random 10x10 matrix\n",
    "matrix = np.random.randint(0, 10, size=(10, 10))\n",
    "\n",
    "# Define block size and shape of resulting array\n",
    "block_size = (3, 3)\n",
    "result_shape = (10 - block_size[0] + 1, 10 - block_size[1] + 1, block_size[0], block_size[1])\n",
    "\n",
    "# Use strides to create a view of the original matrix with desired shape\n",
    "strides = matrix.strides + (matrix.strides[0] * block_size[0], matrix.strides[1] * block_size[1])\n",
    "blocks = np.lib.stride_tricks.as_strided(matrix, shape=result_shape, strides=strides)\n",
    "\n",
    "# Reshape to get individual blocks as separate arrays\n",
    "blocks = blocks.reshape(-1, block_size[0], block_size[1])\n",
    "\n",
    "# Print the first few blocks\n",
    "print(blocks[:5])\n"
   ]
  },
  {
   "cell_type": "markdown",
   "metadata": {},
   "source": [
    "No. 85"
   ]
  },
  {
   "cell_type": "code",
   "execution_count": 56,
   "metadata": {},
   "outputs": [],
   "source": [
    "class Symmetric2DArray(np.ndarray):\n",
    "  \"\"\"\n",
    "  Subclass of NumPy ndarray representing a 2D array with enforced symmetry.\n",
    "  \"\"\"\n",
    "\n",
    "  def __setitem__(self, key, value):\n",
    "    \"\"\"\n",
    "    Overrides the setitem method to ensure symmetry while setting values.\n",
    "\n",
    "    Args:\n",
    "      key: Tuple of indices (i, j).\n",
    "      value: The value to set.\n",
    "    \"\"\"\n",
    "\n",
    "    i, j = key\n",
    "    super().__setitem__(key, value)  # Set the primary element\n",
    "    super().__setitem__((j, i), value)  # Set the corresponding symmetric element\n",
    "\n",
    "  def __getitem__(self, key):\n",
    "    \"\"\"\n",
    "    Overrides the getitem method to handle non-existent pairs symmetrically.\n",
    "\n",
    "    Args:\n",
    "      key: Tuple of indices (i, j).\n",
    "\n",
    "    Returns:\n",
    "      The value at the specified index or its symmetric counterpart if absent.\n",
    "    \"\"\"\n",
    "\n",
    "    i, j = key\n",
    "    try:\n",
    "      return super().__getitem__(key)  # Try returning the primary element\n",
    "    except IndexError:\n",
    "      return super().__getitem__((j, i))  # Return the symmetric element if primary is missing\n",
    "\n"
   ]
  },
  {
   "cell_type": "markdown",
   "metadata": {},
   "source": [
    "No. 86"
   ]
  },
  {
   "cell_type": "code",
   "execution_count": null,
   "metadata": {},
   "outputs": [],
   "source": [
    "def sum_matrix_products_loop(matrices, vectors):\n",
    "  \"\"\"\n",
    "  Computes the sum of matrix products using a loop.\n",
    "\n",
    "  Args:\n",
    "    matrices: A NumPy array of shape (p, n, n) representing the matrices.\n",
    "    vectors: A NumPy array of shape (p, n, 1) representing the vectors.\n",
    "\n",
    "  Returns:\n",
    "    A NumPy array of shape (n, 1) representing the sum of matrix products.\n",
    "  \"\"\"\n",
    "\n",
    "  # Ensure correct shapes\n",
    "  assert matrices.shape[0] == vectors.shape[0] and matrices.shape[1] == matrices.shape[2]\n",
    "  assert vectors.shape[1] == 1\n",
    "\n",
    "  result = np.zeros((n, 1))\n",
    "  for i in range(p):\n",
    "    result += np.dot(matrices[i], vectors[i])[:, np.newaxis]\n",
    "\n",
    "  return result\n",
    "\n",
    "# Example usage (same as before)\n",
    "result = sum_matrix_products_loop(matrices, vectors)\n",
    "print(result.shape)  # Output: (n, 1)\n"
   ]
  },
  {
   "cell_type": "markdown",
   "metadata": {},
   "source": [
    "No. 87"
   ]
  },
  {
   "cell_type": "code",
   "execution_count": 59,
   "metadata": {},
   "outputs": [
    {
     "name": "stdout",
     "output_type": "stream",
     "text": [
      "[[[247 239 204 267]\n",
      "  [184 192 276 183]\n",
      "  [221 207  95 144]\n",
      "  [246 231 201 239]]\n",
      "\n",
      " [[295 218 173 280]\n",
      "  [163 245 157 117]\n",
      "  [135 126 209 140]\n",
      "  [220 149 281 145]]\n",
      "\n",
      " [[223 236 207 163]\n",
      "  [231 213 210 122]\n",
      "  [193 179 247  39]\n",
      "  [203 111 189 101]]\n",
      "\n",
      " [[107 126 236 210]\n",
      "  [147 231 281 331]\n",
      "  [258 214 294 218]\n",
      "  [172 260 242 221]]]\n"
     ]
    }
   ],
   "source": [
    "import numpy as np\n",
    "\n",
    "# Sample 16x16 array\n",
    "arr = np.random.randint(1, 100, size=(16, 16))\n",
    "\n",
    "# Block size\n",
    "block_size = (4, 4)\n",
    "\n",
    "# Reshape and sum along desired axis\n",
    "block_sums = arr.reshape(4, 4, -1, block_size[0], block_size[1]).sum(axis=(2, 4))\n",
    "\n",
    "# Print the block sums\n",
    "print(block_sums)\n"
   ]
  },
  {
   "cell_type": "markdown",
   "metadata": {},
   "source": [
    "No. 88"
   ]
  },
  {
   "cell_type": "code",
   "execution_count": 60,
   "metadata": {},
   "outputs": [
    {
     "name": "stdout",
     "output_type": "stream",
     "text": [
      "[[False False  True False False False False False  True  True]\n",
      " [False False  True False False False  True False  True  True]\n",
      " [False False False False False False  True False  True False]\n",
      " [False False False False False False False  True False False]\n",
      " [False False False False False False False  True False False]\n",
      " [ True False  True  True False False False False False  True]\n",
      " [False  True  True  True  True False False False False False]\n",
      " [False False False  True False  True False False False False]\n",
      " [False False  True False  True False False False False False]\n",
      " [False  True  True  True False False False False False  True]]\n",
      "[[False False False False False False False False False False]\n",
      " [False False False False False False False False False False]\n",
      " [False False False False False False False False False False]\n",
      " [False False False False False False False False False False]\n",
      " [False False False False False False False False False False]\n",
      " [False False False False False False False False False False]\n",
      " [False False False False False False False False False False]\n",
      " [False False False False False False False False False False]\n",
      " [False False False False False False False False False False]\n",
      " [False False False False False False False False False False]]\n",
      "[[False False False False False False False False False False]\n",
      " [False False False False False False False False False False]\n",
      " [False False False False False False False False False False]\n",
      " [False False False False False False False False False False]\n",
      " [False False False False False False False False False False]\n",
      " [False False False False False False False False False False]\n",
      " [False False False False False False False False False False]\n",
      " [False False False False False False False False False False]\n",
      " [False False False False False False False False False False]\n",
      " [False False False False False False False False False False]]\n",
      "[[False False False False False False False False False False]\n",
      " [False False False False False False False False False False]\n",
      " [False False False False False False False False False False]\n",
      " [False False False False False False False False False False]\n",
      " [False False False False False False False False False False]\n",
      " [False False False False False False False False False False]\n",
      " [False False False False False False False False False False]\n",
      " [False False False False False False False False False False]\n",
      " [False False False False False False False False False False]\n",
      " [False False False False False False False False False False]]\n",
      "[[False False False False False False False False False False]\n",
      " [False False False False False False False False False False]\n",
      " [False False False False False False False False False False]\n",
      " [False False False False False False False False False False]\n",
      " [False False False False False False False False False False]\n",
      " [False False False False False False False False False False]\n",
      " [False False False False False False False False False False]\n",
      " [False False False False False False False False False False]\n",
      " [False False False False False False False False False False]\n",
      " [False False False False False False False False False False]]\n",
      "[[False False False False False False False False False False]\n",
      " [False False False False False False False False False False]\n",
      " [False False False False False False False False False False]\n",
      " [False False False False False False False False False False]\n",
      " [False False False False False False False False False False]\n",
      " [False False False False False False False False False False]\n",
      " [False False False False False False False False False False]\n",
      " [False False False False False False False False False False]\n",
      " [False False False False False False False False False False]\n",
      " [False False False False False False False False False False]]\n",
      "[[False False False False False False False False False False]\n",
      " [False False False False False False False False False False]\n",
      " [False False False False False False False False False False]\n",
      " [False False False False False False False False False False]\n",
      " [False False False False False False False False False False]\n",
      " [False False False False False False False False False False]\n",
      " [False False False False False False False False False False]\n",
      " [False False False False False False False False False False]\n",
      " [False False False False False False False False False False]\n",
      " [False False False False False False False False False False]]\n",
      "[[False False False False False False False False False False]\n",
      " [False False False False False False False False False False]\n",
      " [False False False False False False False False False False]\n",
      " [False False False False False False False False False False]\n",
      " [False False False False False False False False False False]\n",
      " [False False False False False False False False False False]\n",
      " [False False False False False False False False False False]\n",
      " [False False False False False False False False False False]\n",
      " [False False False False False False False False False False]\n",
      " [False False False False False False False False False False]]\n",
      "[[False False False False False False False False False False]\n",
      " [False False False False False False False False False False]\n",
      " [False False False False False False False False False False]\n",
      " [False False False False False False False False False False]\n",
      " [False False False False False False False False False False]\n",
      " [False False False False False False False False False False]\n",
      " [False False False False False False False False False False]\n",
      " [False False False False False False False False False False]\n",
      " [False False False False False False False False False False]\n",
      " [False False False False False False False False False False]]\n",
      "[[False False False False False False False False False False]\n",
      " [False False False False False False False False False False]\n",
      " [False False False False False False False False False False]\n",
      " [False False False False False False False False False False]\n",
      " [False False False False False False False False False False]\n",
      " [False False False False False False False False False False]\n",
      " [False False False False False False False False False False]\n",
      " [False False False False False False False False False False]\n",
      " [False False False False False False False False False False]\n",
      " [False False False False False False False False False False]]\n"
     ]
    }
   ],
   "source": [
    "import numpy as np\n",
    "\n",
    "def conway_step(world):\n",
    "  \"\"\"\n",
    "  Simulates one step of the Game of Life for a given world.\n",
    "\n",
    "  Args:\n",
    "    world: A NumPy array representing the world, where 1 is alive and 0 is dead.\n",
    "\n",
    "  Returns:\n",
    "    A NumPy array representing the world after one step.\n",
    "  \"\"\"\n",
    "\n",
    "  # Calculate number of alive neighbors for each cell (including boundaries)\n",
    "  neighbors = np.pad(world, 1, mode='wrap')[:-2, :-2]  # Exclude padding\n",
    "  neighbors += np.roll(neighbors, 1, axis=0) + np.roll(neighbors, 1, axis=1) \\\n",
    "              + np.roll(neighbors, -1, axis=0) + np.roll(neighbors, -1, axis=1) \\\n",
    "              + np.roll(neighbors, (1, 1), axis=(0, 1)) + np.roll(neighbors, (1, -1), axis=(0, 1)) \\\n",
    "              + np.roll(neighbors, (-1, 1), axis=(0, 1)) + np.roll(neighbors, (-1, -1), axis=(0, 1))\n",
    "\n",
    "  # Apply game rules: birth, survival, death\n",
    "  return (neighbors == 3) | ((neighbors == 2) & (world == 1))\n",
    "\n",
    "# Example usage\n",
    "world = np.random.randint(0, 2, size=(10, 10))  # Random initial world\n",
    "n_steps = 10  # Number of steps to simulate\n",
    "\n",
    "for _ in range(n_steps):\n",
    "  world = conway_step(world)\n",
    "  print(world)  # Print the world after each step\n",
    "\n"
   ]
  },
  {
   "cell_type": "markdown",
   "metadata": {},
   "source": [
    "No. 89"
   ]
  },
  {
   "cell_type": "code",
   "execution_count": 61,
   "metadata": {},
   "outputs": [
    {
     "name": "stdout",
     "output_type": "stream",
     "text": [
      "[6 7 8]\n"
     ]
    }
   ],
   "source": [
    "import numpy as np\n",
    "\n",
    "def largest_n(arr, n):\n",
    "  \"\"\"\n",
    "  Returns the n largest values of an array.\n",
    "\n",
    "  Args:\n",
    "    arr: A NumPy array.\n",
    "    n: The number of largest values to return.\n",
    "\n",
    "  Returns:\n",
    "    A NumPy array containing the n largest values in descending order.\n",
    "  \"\"\"\n",
    "\n",
    "  indices = np.argsort(arr)[-n:]  # Get indices of n largest elements in descending order\n",
    "  return arr[indices]\n",
    "\n",
    "# Example usage\n",
    "arr = np.array([3, 5, 1, 8, 2, 4, 7, 6])\n",
    "n = 3\n",
    "largest_values = largest_n(arr, n)\n",
    "print(largest_values)  # Output: [8 7 6]\n"
   ]
  },
  {
   "cell_type": "markdown",
   "metadata": {},
   "source": [
    "No. 90"
   ]
  },
  {
   "cell_type": "code",
   "execution_count": 62,
   "metadata": {},
   "outputs": [
    {
     "name": "stdout",
     "output_type": "stream",
     "text": [
      "[[1, 3, 5], [1, 4, 5], [2, 3, 5], [2, 4, 5]]\n"
     ]
    }
   ],
   "source": [
    "def cartesian_product(vectors):\n",
    "  \"\"\"\n",
    "  Recursively builds the cartesian product of a list of vectors.\n",
    "\n",
    "  Args:\n",
    "    vectors: A list of vectors.\n",
    "\n",
    "  Returns:\n",
    "    A list of all elements in the cartesian product.\n",
    "  \"\"\"\n",
    "\n",
    "  if not vectors:\n",
    "    return [[]]  # Base case: empty list returns empty product\n",
    "\n",
    "  first_vector, *rest_vectors = vectors\n",
    "  product = []\n",
    "  for element in first_vector:\n",
    "    for sub_product in cartesian_product(rest_vectors):\n",
    "      product.append([element] + sub_product)\n",
    "  return product\n",
    "\n",
    "# Example usage\n",
    "vectors = [[1, 2], [3, 4], [5]]\n",
    "product = cartesian_product(vectors)\n",
    "print(product)  # Output: [[1, 3, 5], [1, 4, 5], [2, 3, 5], [2, 4, 5]]\n"
   ]
  },
  {
   "cell_type": "markdown",
   "metadata": {},
   "source": [
    "No. 91"
   ]
  },
  {
   "cell_type": "code",
   "execution_count": null,
   "metadata": {},
   "outputs": [],
   "source": [
    "# Sample data as structured records\n",
    "records = [\n",
    "  {'name': \"Alice\", 'age': 25, 'height': 1.70},\n",
    "  {'name': \"Bob\", 'age': 30, 'height': 1.85},\n",
    "  {'name': \"Charlie\", 'age': 28, 'height': 1.78},\n",
    "]\n",
    "\n",
    "# Create record array\n",
    "record_array = np.fromrecords(records, names=['name', 'age', 'height'])\n",
    "\n",
    "# Accessing elements (similar to approach 1)\n",
    "print(record_array[0].name)\n",
    "print(record_array[1].age)\n",
    "print(record_array['height'])\n"
   ]
  },
  {
   "cell_type": "markdown",
   "metadata": {},
   "source": [
    "No. 92"
   ]
  },
  {
   "cell_type": "code",
   "execution_count": 65,
   "metadata": {},
   "outputs": [
    {
     "name": "stdout",
     "output_type": "stream",
     "text": [
      "[0.7396736  0.50048968 0.61564187 0.05763374 0.37436741]\n"
     ]
    }
   ],
   "source": [
    "import numpy as np\n",
    "\n",
    "# Sample vector (adjust size as needed)\n",
    "Z = np.random.rand(10000)\n",
    "\n",
    "# Compute Z^3 using element-wise exponentiation\n",
    "Z_cubed = Z**3\n",
    "\n",
    "# Print the first few elements\n",
    "print(Z_cubed[:5])\n"
   ]
  },
  {
   "cell_type": "markdown",
   "metadata": {},
   "source": [
    "No. 93"
   ]
  },
  {
   "cell_type": "code",
   "execution_count": null,
   "metadata": {},
   "outputs": [],
   "source": [
    "import numpy as np\n",
    "\n",
    "# Sample arrays A and B\n",
    "A = np.array([[1, 2, 3], [4, 5, 6], [7, 8, 9], [10, 11, 12],\n",
    "             [13, 14, 15], [16, 17, 18], [19, 20, 21], [22, 23, 24]])\n",
    "B = np.array([[2, 3], [1, 4]])\n",
    "\n",
    "# Reshape B to have the same number of columns as A\n",
    "B = B[:, np.newaxis, :]\n",
    "\n",
    "# Check if each row of A contains all elements of any row of Bmatching_rows = np.where(np.any((A[..., np.newaxis, :] == B), axis=(3,1)))[0]\n",
    "\n",
    "matching_rows = np.where(np.any((A[..., np.newaxis, :] == B), axis=(3,1)))[0]\n",
    "\n",
    "# Print the matching rows\n",
    "print(\"Matching rows in A:\", matching_rows)\n"
   ]
  },
  {
   "cell_type": "markdown",
   "metadata": {},
   "source": [
    "No. 94"
   ]
  },
  {
   "cell_type": "code",
   "execution_count": 71,
   "metadata": {},
   "outputs": [
    {
     "name": "stdout",
     "output_type": "stream",
     "text": [
      "Rows with unequal values: [[3 2 9]\n",
      " [0 1 9]\n",
      " [4 9 2]\n",
      " [1 8 4]\n",
      " [3 7 5]\n",
      " [1 6 4]\n",
      " [6 1 4]\n",
      " [0 1 6]\n",
      " [9 4 2]\n",
      " [0 6 6]]\n"
     ]
    }
   ],
   "source": [
    "import numpy as np\n",
    "\n",
    "# Sample 10x3 matrix\n",
    "matrix = np.random.randint(0, 10, size=(10, 3))\n",
    "\n",
    "# Find rows with any unequal values\n",
    "unequal_rows = np.where((matrix != matrix[:, np.newaxis, :]).any(axis=(1, 2)))[0]\n",
    "\n",
    "# Extract and print the unequal rows\n",
    "extracted_rows = matrix[unequal_rows]\n",
    "print(\"Rows with unequal values:\", extracted_rows)\n"
   ]
  },
  {
   "cell_type": "markdown",
   "metadata": {},
   "source": [
    "No. 95"
   ]
  },
  {
   "cell_type": "code",
   "execution_count": 72,
   "metadata": {},
   "outputs": [
    {
     "name": "stdout",
     "output_type": "stream",
     "text": [
      "[[0 0 0 0 0 0 1 1]\n",
      " [0 0 0 0 1 0 0 0]\n",
      " [0 0 0 0 1 1 1 1]]\n"
     ]
    }
   ],
   "source": [
    "import numpy as np\n",
    "\n",
    "# Sample vector of integers\n",
    "vector = [3, 8, 15]\n",
    "\n",
    "# Define desired width of binary representation (e.g., 8 bits)\n",
    "width = 8\n",
    "\n",
    "# Convert each integer to binary string and pad with zeros\n",
    "binary_strings = np.array([f\"{num:0{width}b}\" for num in vector], dtype=str)\n",
    "\n",
    "# Convert binary strings to a NumPy array of integers\n",
    "binary_matrix = np.array([[int(bit) for bit in string] for string in binary_strings])\n",
    "\n",
    "# Print the binary matrix\n",
    "print(binary_matrix)\n"
   ]
  },
  {
   "cell_type": "markdown",
   "metadata": {},
   "source": [
    "No. 96"
   ]
  },
  {
   "cell_type": "code",
   "execution_count": 73,
   "metadata": {},
   "outputs": [
    {
     "name": "stdout",
     "output_type": "stream",
     "text": [
      "Unique rows:\n",
      "[[7 8 9]\n",
      " [1 2 3]\n",
      " [4 5 6]]\n"
     ]
    }
   ],
   "source": [
    "import numpy as np\n",
    "\n",
    "# Sample 2D array\n",
    "arr = np.array([[1, 2, 3], [4, 5, 6], [1, 2, 3], [7, 8, 9], [4, 5, 6]])\n",
    "\n",
    "# Convert the array to a set of tuples (efficient for uniqueness checks)\n",
    "unique_rows = set(tuple(row) for row in arr)\n",
    "\n",
    "# Convert the set of tuples back to a NumPy array\n",
    "unique_rows_array = np.array(list(unique_rows))\n",
    "\n",
    "# Print the unique rows\n",
    "print(\"Unique rows:\")\n",
    "print(unique_rows_array)\n"
   ]
  },
  {
   "cell_type": "markdown",
   "metadata": {},
   "source": [
    "No. 97"
   ]
  },
  {
   "cell_type": "markdown",
   "metadata": {},
   "source": [
    "Inner product:\n",
    "\n",
    "Incorrect: np.einsum('i,i->', A, B)\n",
    "Correct: np.einsum('i,i->', A, B) or np.dot(A, B)\n",
    "Both expressions are correct. The first uses einsum to sum over the same index in both vectors, achieving the same result as the standard np.dot function for inner product.\n",
    "\n",
    "Outer product:\n",
    "\n",
    "Correct: np.einsum('i,j->ij', A, B)\n",
    "This expression creates a matrix where each element is the product of the corresponding elements from A and B.\n",
    "\n",
    "Sum of elements:\n",
    "\n",
    "Incorrect: np.einsum('i->', A) or np.einsum('->', A)\n",
    "Correct: np.sum(A)\n",
    "While both einsum expressions are technically valid, np.sum(A) is more straightforward and efficient for summing all elements of a vector.\n",
    "\n",
    "Element-wise multiplication:\n",
    "\n",
    "Incorrect: np.einsum('i,i->i', A, B)\n",
    "Correct: np.einsum('i,i->i', A, B) or A * B"
   ]
  },
  {
   "cell_type": "markdown",
   "metadata": {},
   "source": [
    "No. 98"
   ]
  },
  {
   "cell_type": "code",
   "execution_count": 74,
   "metadata": {},
   "outputs": [
    {
     "name": "stdout",
     "output_type": "stream",
     "text": [
      "Sampled points:\n",
      "[[1.         2.        ]\n",
      " [1.         2.        ]\n",
      " [1.         2.        ]\n",
      " [1.         2.        ]\n",
      " [1.66666667 2.66666667]\n",
      " [2.33333333 3.33333333]\n",
      " [3.         4.        ]\n",
      " [3.66666667 4.66666667]\n",
      " [4.33333333 5.33333333]\n",
      " [5.         6.        ]\n",
      " [7.         8.        ]]\n"
     ]
    }
   ],
   "source": [
    "import numpy as np\n",
    "\n",
    "# Sample path coordinates\n",
    "X = np.array([1, 3, 5, 7])\n",
    "Y = np.array([2, 4, 6, 8])\n",
    "\n",
    "# Number of desired samples\n",
    "num_samples = 10\n",
    "\n",
    "# Get distance between consecutive points\n",
    "distances = np.sqrt(np.diff(X)**2 + np.diff(Y)**2)\n",
    "total_distance = np.sum(distances)\n",
    "\n",
    "# Sample positions along the path based on total distance\n",
    "positions = np.linspace(0, total_distance, num_samples)\n",
    "\n",
    "# Interpolate X and Y coordinates for each sample position\n",
    "interp_x = np.interp(positions, np.cumsum(distances), X[:-1])\n",
    "interp_y = np.interp(positions, np.cumsum(distances), Y[:-1])\n",
    "\n",
    "# Append the last point to ensure equal sampling\n",
    "interp_x = np.append(interp_x, X[-1])\n",
    "interp_y = np.append(interp_y, Y[-1])\n",
    "\n",
    "# Print the sampled points\n",
    "print(\"Sampled points:\")\n",
    "print(np.stack((interp_x, interp_y), axis=1))\n"
   ]
  },
  {
   "cell_type": "markdown",
   "metadata": {},
   "source": [
    "No. 99"
   ]
  },
  {
   "cell_type": "code",
   "execution_count": 75,
   "metadata": {},
   "outputs": [
    {
     "name": "stdout",
     "output_type": "stream",
     "text": [
      "Selected rows:\n",
      "[[1 2 0]\n",
      " [2 1 3]\n",
      " [0 0 5]]\n"
     ]
    }
   ],
   "source": [
    "import numpy as np\n",
    "\n",
    "def select_multinomial_draws(X, n):\n",
    "  \"\"\"\n",
    "  Selects rows from X that represent draws from a multinomial distribution with n degrees.\n",
    "\n",
    "  Args:\n",
    "    X: A 2D NumPy array.\n",
    "    n: The number of degrees in the multinomial distribution.\n",
    "\n",
    "  Returns:\n",
    "    A NumPy array containing the selected rows.\n",
    "  \"\"\"\n",
    "  # Check if rows are integers, sum to n, and have positive values\n",
    "  valid_rows = np.where((X.astype(int) == X) & (X.sum(axis=1) == n) & (X >= 0).all(axis=1))[0]\n",
    "  return X[valid_rows]\n",
    "\n",
    "# Example usage\n",
    "X = np.array([[1, 2, 0], [2, 1, 3], [0, 0, 5]])\n",
    "n = 5\n",
    "selected_rows = select_multinomial_draws(X, n)\n",
    "print(\"Selected rows:\")\n",
    "print(selected_rows)\n"
   ]
  },
  {
   "cell_type": "markdown",
   "metadata": {},
   "source": [
    "No. 100"
   ]
  },
  {
   "cell_type": "code",
   "execution_count": 76,
   "metadata": {},
   "outputs": [
    {
     "name": "stdout",
     "output_type": "stream",
     "text": [
      "95% confidence interval for the mean:\n",
      "Lower bound: 0.4878, Upper bound: 0.5261\n"
     ]
    }
   ],
   "source": [
    "import numpy as np\n",
    "\n",
    "def bootstrap_conf_interval(X, num_samples=1000):\n",
    "  \"\"\"\n",
    "  Computes bootstrapped 95% confidence intervals for the mean of an array.\n",
    "\n",
    "  Args:\n",
    "    X: A 1D NumPy array.\n",
    "    num_samples: The number of bootstrap samples to draw.\n",
    "\n",
    "  Returns:\n",
    "    A tuple containing the lower and upper bound of the confidence interval.\n",
    "  \"\"\"\n",
    "\n",
    "  # Sample with replacement and calculate means\n",
    "  means = np.zeros(num_samples)\n",
    "  for i in range(num_samples):\n",
    "    sample = np.random.choice(X, size=len(X), replace=True)\n",
    "    means[i] = sample.mean()\n",
    "\n",
    "  # Sort the means and get percentiles for 95% confidence interval\n",
    "  percentiles = np.percentile(means, [2.5, 97.5])\n",
    "  return percentiles[0], percentiles[1]\n",
    "\n",
    "# Example usage\n",
    "X = np.random.rand(1000)  # Sample data\n",
    "alpha = 0.05  # Confidence level (1 - alpha = 0.95)\n",
    "lower_bound, upper_bound = bootstrap_conf_interval(X)\n",
    "\n",
    "print(\"95% confidence interval for the mean:\")\n",
    "print(f\"Lower bound: {lower_bound:.4f}, Upper bound: {upper_bound:.4f}\")\n"
   ]
  }
 ],
 "metadata": {
  "kernelspec": {
   "display_name": "Python 3",
   "language": "python",
   "name": "python3"
  },
  "language_info": {
   "codemirror_mode": {
    "name": "ipython",
    "version": 3
   },
   "file_extension": ".py",
   "mimetype": "text/x-python",
   "name": "python",
   "nbconvert_exporter": "python",
   "pygments_lexer": "ipython3",
   "version": "3.10.10"
  }
 },
 "nbformat": 4,
 "nbformat_minor": 2
}
